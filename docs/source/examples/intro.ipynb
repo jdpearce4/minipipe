{
 "cells": [
  {
   "cell_type": "markdown",
   "metadata": {},
   "source": [
    "# Introduction to MiniPipe"
   ]
  },
  {
   "cell_type": "markdown",
   "metadata": {},
   "source": [
    "The easiest way to understand MiniPipe is to dive into some examples. So let's first look at a simple toy example of a mini-batch pipeline. This example is just to demonstrate the basic functionality of MiniPipe. We'll get to some real-world applications later on. "
   ]
  },
  {
   "cell_type": "markdown",
   "metadata": {},
   "source": [
    "## Serial Pipelines"
   ]
  },
  {
   "cell_type": "markdown",
   "metadata": {},
   "source": [
    "Most machine learning pipeline will have at least three stages: load, transform and train. In this example we'll simulate these three stages with these simple functions"
   ]
  },
  {
   "cell_type": "code",
   "execution_count": 1,
   "metadata": {},
   "outputs": [],
   "source": [
    "import time\n",
    "\n",
    "# 'loads' data\n",
    "def loader(n):\n",
    "    for i in range(n):\n",
    "        time.sleep(0.5)\n",
    "        yield i\n",
    "\n",
    "# performs square transformation to data        \n",
    "def trans(x):\n",
    "    time.sleep(1)\n",
    "    return x**2\n",
    "\n",
    "# prints data\n",
    "def output(x):\n",
    "    time.sleep(0.5)\n",
    "    print('x = {}'.format(x))"
   ]
  },
  {
   "cell_type": "markdown",
   "metadata": {},
   "source": [
    "The first function, `loader`, returns a python generator, which we'll use to generate our \"data\". I've added a delay of 0.5s into the generator to simulate loading time. The next function `transform` is a simple transformation on our data (squares the input), which takes twice as long (1s) as loading. Finally `output` simply prints our data to stdout, also taking 0.5s."
   ]
  },
  {
   "cell_type": "markdown",
   "metadata": {},
   "source": [
    "Of course in this simple example we can fit all the “data” into memory, but lets pretend like that's not the case. We need to load one chunk of data at a time, where each data chunk is returned with the `next(loader())` method. "
   ]
  },
  {
   "cell_type": "markdown",
   "metadata": {},
   "source": [
    "Lets setup a serial pipeline without MiniPipe, where we get the data, transform it and then save it one batch at a time. We'll use jupyter's %%timeit magic cell to time execution time. "
   ]
  },
  {
   "cell_type": "code",
   "execution_count": 43,
   "metadata": {},
   "outputs": [
    {
     "name": "stdout",
     "output_type": "stream",
     "text": [
      "x = 0\n",
      "x = 1\n",
      "x = 4\n",
      "x = 9\n",
      "x = 16\n",
      "x = 25\n",
      "x = 36\n",
      "x = 49\n",
      "x = 64\n",
      "x = 81\n",
      "20 s ± 0 ns per loop (mean ± std. dev. of 1 run, 1 loop each)\n"
     ]
    }
   ],
   "source": [
    "%%timeit -n 1 -r 1\n",
    "\n",
    "# initialize loader\n",
    "ldr = loader(10)\n",
    "\n",
    "# run pipeline\n",
    "for data in ldr: \n",
    "    x = trans(data)\n",
    "    output(x)"
   ]
  },
  {
   "cell_type": "markdown",
   "metadata": {},
   "source": [
    "The for loop calls the `next(lrd)` method 10 times sequentially, each time applying `transform` followed by `output`. As expected the execution time takes about 20s since each iteration takes a total of 2s (0.5s + 1s + 0.5s) and it's repeated 10 times."
   ]
  },
  {
   "cell_type": "markdown",
   "metadata": {},
   "source": [
    "## Pipeline Parallelism"
   ]
  },
  {
   "cell_type": "markdown",
   "metadata": {},
   "source": [
    "Now lets see what the same pipeline looks like in MiniPipe."
   ]
  },
  {
   "cell_type": "code",
   "execution_count": 34,
   "metadata": {},
   "outputs": [],
   "source": [
    "from minipipe import Source, Transform, Sink\n",
    "\n",
    "@Source\n",
    "def loader(n):\n",
    "    for i in range(n):\n",
    "        time.sleep(0.5)\n",
    "        yield i\n",
    "        \n",
    "@Transform\n",
    "def trans(x):\n",
    "    time.sleep(1)\n",
    "    return x**2\n",
    "\n",
    "@Sink\n",
    "def output(x):\n",
    "    time.sleep(0.5)\n",
    "    print('x = {}'.format(x))"
   ]
  },
  {
   "cell_type": "markdown",
   "metadata": {},
   "source": [
    "MiniPipe has three basic types of pipe segments: Sources, Transforms and Sinks. Above we've used a Python decorator to wrap our function definitions with a pipe class. Alternatively,  we could have used syntax `trans = Transform(trans)` to achieve the same thing. The wrapped function `trans` still acts the same as before, it's just been decorated with other attributes that allow it to be run in a pipeline. \n",
    "\n",
    "For example,  "
   ]
  },
  {
   "cell_type": "code",
   "execution_count": 49,
   "metadata": {},
   "outputs": [
    {
     "name": "stdout",
     "output_type": "stream",
     "text": [
      "trans(2) = 4\n"
     ]
    }
   ],
   "source": [
    "x = 2\n",
    "print(f'{trans.__name__}({x}) = {trans(x)}')"
   ]
  },
  {
   "cell_type": "markdown",
   "metadata": {},
   "source": [
    "still works as expected."
   ]
  },
  {
   "cell_type": "markdown",
   "metadata": {},
   "source": [
    "We build pipelines by adding pipe segments to the `Pipeline` object and calling the `Pipeline.build` method. "
   ]
  },
  {
   "cell_type": "code",
   "execution_count": 35,
   "metadata": {},
   "outputs": [
    {
     "data": {
      "image/svg+xml": [
       "<?xml version=\"1.0\" encoding=\"UTF-8\" standalone=\"no\"?>\n",
       "<!DOCTYPE svg PUBLIC \"-//W3C//DTD SVG 1.1//EN\"\n",
       " \"http://www.w3.org/Graphics/SVG/1.1/DTD/svg11.dtd\">\n",
       "<!-- Generated by graphviz version 2.42.3 (20191010.1750)\n",
       " -->\n",
       "<!-- Title: %3 Pages: 1 -->\n",
       "<svg width=\"74pt\" height=\"188pt\"\n",
       " viewBox=\"0.00 0.00 74.29 188.00\" xmlns=\"http://www.w3.org/2000/svg\" xmlns:xlink=\"http://www.w3.org/1999/xlink\">\n",
       "<g id=\"graph0\" class=\"graph\" transform=\"scale(1 1) rotate(0) translate(4 184)\">\n",
       "<title>%3</title>\n",
       "<polygon fill=\"white\" stroke=\"transparent\" points=\"-4,4 -4,-184 70.29,-184 70.29,4 -4,4\"/>\n",
       "<!-- 140490806161760 -->\n",
       "<g id=\"node1\" class=\"node\">\n",
       "<title>140490806161760</title>\n",
       "<ellipse fill=\"none\" stroke=\"black\" cx=\"33.15\" cy=\"-162\" rx=\"32.49\" ry=\"18\"/>\n",
       "<text text-anchor=\"middle\" x=\"33.15\" y=\"-158.3\" font-family=\"Times,serif\" font-size=\"14.00\">loader</text>\n",
       "</g>\n",
       "<!-- 140490935106752 -->\n",
       "<g id=\"node2\" class=\"node\">\n",
       "<title>140490935106752</title>\n",
       "<ellipse fill=\"none\" stroke=\"black\" cx=\"33.15\" cy=\"-90\" rx=\"27.9\" ry=\"18\"/>\n",
       "<text text-anchor=\"middle\" x=\"33.15\" y=\"-86.3\" font-family=\"Times,serif\" font-size=\"14.00\">trans</text>\n",
       "</g>\n",
       "<!-- 140490806161760&#45;&gt;140490935106752 -->\n",
       "<g id=\"edge1\" class=\"edge\">\n",
       "<title>140490806161760&#45;&gt;140490935106752</title>\n",
       "<path fill=\"none\" stroke=\"black\" d=\"M33.15,-143.7C33.15,-135.98 33.15,-126.71 33.15,-118.11\"/>\n",
       "<polygon fill=\"black\" stroke=\"black\" points=\"36.65,-118.1 33.15,-108.1 29.65,-118.1 36.65,-118.1\"/>\n",
       "</g>\n",
       "<!-- 140489945023040 -->\n",
       "<g id=\"node3\" class=\"node\">\n",
       "<title>140489945023040</title>\n",
       "<ellipse fill=\"none\" stroke=\"black\" cx=\"33.15\" cy=\"-18\" rx=\"33.29\" ry=\"18\"/>\n",
       "<text text-anchor=\"middle\" x=\"33.15\" y=\"-14.3\" font-family=\"Times,serif\" font-size=\"14.00\">output</text>\n",
       "</g>\n",
       "<!-- 140490935106752&#45;&gt;140489945023040 -->\n",
       "<g id=\"edge2\" class=\"edge\">\n",
       "<title>140490935106752&#45;&gt;140489945023040</title>\n",
       "<path fill=\"none\" stroke=\"black\" d=\"M33.15,-71.7C33.15,-63.98 33.15,-54.71 33.15,-46.11\"/>\n",
       "<polygon fill=\"black\" stroke=\"black\" points=\"36.65,-46.1 33.15,-36.1 29.65,-46.1 36.65,-46.1\"/>\n",
       "</g>\n",
       "</g>\n",
       "</svg>\n"
      ],
      "text/plain": [
       "<graphviz.dot.Digraph at 0x7fc65d43e550>"
      ]
     },
     "execution_count": 35,
     "metadata": {},
     "output_type": "execute_result"
    }
   ],
   "source": [
    "from minipipe import Pipeline\n",
    "\n",
    "# initialize loader\n",
    "ldr = loader(10)\n",
    "\n",
    "# build pipeline\n",
    "pline = Pipeline()\n",
    "pline.add(ldr)\n",
    "pline.add(trans)\n",
    "pline.add(output) \n",
    "pline.build()\n",
    "\n",
    "# draw pipeline\n",
    "pline.diagram()"
   ]
  },
  {
   "cell_type": "markdown",
   "metadata": {},
   "source": [
    "To run the pipeline we simply need to call the `Pipeline.run` method. "
   ]
  },
  {
   "cell_type": "code",
   "execution_count": 47,
   "metadata": {},
   "outputs": [
    {
     "name": "stdout",
     "output_type": "stream",
     "text": [
      "x = 0\n",
      "x = 1\n",
      "x = 4\n",
      "x = 9\n",
      "x = 16\n",
      "x = 25\n",
      "x = 36\n"
     ]
    },
    {
     "name": "stderr",
     "output_type": "stream",
     "text": [
      "2020-03-01 16:38:18,409 - INFO - loader - End of stream\n"
     ]
    },
    {
     "name": "stdout",
     "output_type": "stream",
     "text": [
      "x = 49\n"
     ]
    },
    {
     "name": "stderr",
     "output_type": "stream",
     "text": [
      "2020-03-01 16:38:19,411 - INFO - loader - Local termination\n"
     ]
    },
    {
     "name": "stdout",
     "output_type": "stream",
     "text": [
      "x = 64\n"
     ]
    },
    {
     "name": "stderr",
     "output_type": "stream",
     "text": [
      "2020-03-01 16:38:20,413 - INFO - trans - Local termination\n"
     ]
    },
    {
     "name": "stdout",
     "output_type": "stream",
     "text": [
      "x = 81\n"
     ]
    },
    {
     "name": "stderr",
     "output_type": "stream",
     "text": [
      "2020-03-01 16:38:20,915 - INFO - save - Local termination\n",
      "2020-03-01 16:38:20,920 - INFO - main - Warm-up time: 0.01s\n",
      "2020-03-01 16:38:20,922 - INFO - main - Run time: 11.02s\n",
      "2020-03-01 16:38:20,923 - INFO - main - Total time: 11.04s\n"
     ]
    }
   ],
   "source": [
    "pline.run(timeit=True)"
   ]
  },
  {
   "cell_type": "markdown",
   "metadata": {},
   "source": [
    "We see from the logging (which can be set in `PipeLine.__init__` with `log_lvl`) where each pipe segment shutdown. Source shutdown first---after the end of the stream---followed by Transform and Sink. \n",
    "\n",
    "The execution time is now 11s instead of 20s. That's because each pipe segments executes on it's own process allowing for parallel execution. Of course dependent nodes still have to wait for data to be passed downstream, but once data is passed the node can start on the next batch without waiting for the full pipeline to be executed. Thus we expect the total time to be 0.5s (initial load) + 10 x (1s) + 0.5s (final save) = 11s. "
   ]
  },
  {
   "cell_type": "markdown",
   "metadata": {},
   "source": [
    "MiniPipe will place each pipe segment on its own process. Each process runs independently in an asynchronous fashion. MiniPipe is an API built on top of Python's Multiprocessing library and optionally Pyarrow.plasma. \n",
    "\n",
    "There is no limit to the number of processes you can run, however you are limited by the number of physical cores on your machine. For computation heavy pipelines bound to the CPU you may see performance degradation if the number of pipe segments exceed the number of physical cores. On the other hand, for I/O processes such as loading or computation that's bound to the GPU, such as training, this should be less of an issue. "
   ]
  },
  {
   "cell_type": "markdown",
   "metadata": {},
   "source": [
    "## Horizontal Scaling"
   ]
  },
  {
   "cell_type": "markdown",
   "metadata": {},
   "source": [
    "Since `trans` takes twice as long as `loader` and `save` we can additionally speed things up by increasing the number of Transform processes. Minipipe is designed for this type of horizontal parallelization as well."
   ]
  },
  {
   "cell_type": "code",
   "execution_count": 51,
   "metadata": {},
   "outputs": [
    {
     "data": {
      "image/svg+xml": [
       "<?xml version=\"1.0\" encoding=\"UTF-8\" standalone=\"no\"?>\n",
       "<!DOCTYPE svg PUBLIC \"-//W3C//DTD SVG 1.1//EN\"\n",
       " \"http://www.w3.org/Graphics/SVG/1.1/DTD/svg11.dtd\">\n",
       "<!-- Generated by graphviz version 2.42.3 (20191010.1750)\n",
       " -->\n",
       "<!-- Title: %3 Pages: 1 -->\n",
       "<svg width=\"172pt\" height=\"188pt\"\n",
       " viewBox=\"0.00 0.00 171.79 188.00\" xmlns=\"http://www.w3.org/2000/svg\" xmlns:xlink=\"http://www.w3.org/1999/xlink\">\n",
       "<g id=\"graph0\" class=\"graph\" transform=\"scale(1 1) rotate(0) translate(4 184)\">\n",
       "<title>%3</title>\n",
       "<polygon fill=\"white\" stroke=\"transparent\" points=\"-4,4 -4,-184 167.79,-184 167.79,4 -4,4\"/>\n",
       "<!-- 140500256304488 -->\n",
       "<g id=\"node1\" class=\"node\">\n",
       "<title>140500256304488</title>\n",
       "<ellipse fill=\"none\" stroke=\"black\" cx=\"81.4\" cy=\"-162\" rx=\"32.49\" ry=\"18\"/>\n",
       "<text text-anchor=\"middle\" x=\"81.4\" y=\"-158.3\" font-family=\"Times,serif\" font-size=\"14.00\">loader</text>\n",
       "</g>\n",
       "<!-- 140500256239288 -->\n",
       "<g id=\"node2\" class=\"node\">\n",
       "<title>140500256239288</title>\n",
       "<ellipse fill=\"none\" stroke=\"black\" cx=\"36.4\" cy=\"-90\" rx=\"36.29\" ry=\"18\"/>\n",
       "<text text-anchor=\"middle\" x=\"36.4\" y=\"-86.3\" font-family=\"Times,serif\" font-size=\"14.00\">trans_0</text>\n",
       "</g>\n",
       "<!-- 140500256304488&#45;&gt;140500256239288 -->\n",
       "<g id=\"edge1\" class=\"edge\">\n",
       "<title>140500256304488&#45;&gt;140500256239288</title>\n",
       "<path fill=\"none\" stroke=\"black\" d=\"M70.96,-144.76C65.53,-136.32 58.77,-125.8 52.67,-116.31\"/>\n",
       "<polygon fill=\"black\" stroke=\"black\" points=\"55.44,-114.15 47.09,-107.63 49.55,-117.94 55.44,-114.15\"/>\n",
       "</g>\n",
       "<!-- 140500256237944 -->\n",
       "<g id=\"node3\" class=\"node\">\n",
       "<title>140500256237944</title>\n",
       "<ellipse fill=\"none\" stroke=\"black\" cx=\"127.4\" cy=\"-90\" rx=\"36.29\" ry=\"18\"/>\n",
       "<text text-anchor=\"middle\" x=\"127.4\" y=\"-86.3\" font-family=\"Times,serif\" font-size=\"14.00\">trans_1</text>\n",
       "</g>\n",
       "<!-- 140500256304488&#45;&gt;140500256237944 -->\n",
       "<g id=\"edge2\" class=\"edge\">\n",
       "<title>140500256304488&#45;&gt;140500256237944</title>\n",
       "<path fill=\"none\" stroke=\"black\" d=\"M92.07,-144.76C97.67,-136.23 104.67,-125.58 110.96,-116.02\"/>\n",
       "<polygon fill=\"black\" stroke=\"black\" points=\"113.9,-117.91 116.47,-107.63 108.05,-114.07 113.9,-117.91\"/>\n",
       "</g>\n",
       "<!-- 140500595159840 -->\n",
       "<g id=\"node4\" class=\"node\">\n",
       "<title>140500595159840</title>\n",
       "<ellipse fill=\"none\" stroke=\"black\" cx=\"81.4\" cy=\"-18\" rx=\"33.29\" ry=\"18\"/>\n",
       "<text text-anchor=\"middle\" x=\"81.4\" y=\"-14.3\" font-family=\"Times,serif\" font-size=\"14.00\">output</text>\n",
       "</g>\n",
       "<!-- 140500256239288&#45;&gt;140500595159840 -->\n",
       "<g id=\"edge3\" class=\"edge\">\n",
       "<title>140500256239288&#45;&gt;140500595159840</title>\n",
       "<path fill=\"none\" stroke=\"black\" d=\"M47.06,-72.41C52.5,-63.95 59.22,-53.49 65.28,-44.08\"/>\n",
       "<polygon fill=\"black\" stroke=\"black\" points=\"68.35,-45.77 70.81,-35.47 62.46,-41.99 68.35,-45.77\"/>\n",
       "</g>\n",
       "<!-- 140500256237944&#45;&gt;140500595159840 -->\n",
       "<g id=\"edge4\" class=\"edge\">\n",
       "<title>140500256237944&#45;&gt;140500595159840</title>\n",
       "<path fill=\"none\" stroke=\"black\" d=\"M116.73,-72.76C111.04,-64.11 103.92,-53.27 97.57,-43.6\"/>\n",
       "<polygon fill=\"black\" stroke=\"black\" points=\"100.42,-41.58 92.01,-35.15 94.57,-45.43 100.42,-41.58\"/>\n",
       "</g>\n",
       "</g>\n",
       "</svg>\n"
      ],
      "text/plain": [
       "<graphviz.dot.Digraph at 0x7fc8c3de2630>"
      ]
     },
     "execution_count": 51,
     "metadata": {},
     "output_type": "execute_result"
    }
   ],
   "source": [
    "# initialize loader\n",
    "ldr = loader(10)\n",
    "\n",
    "# build pipeline\n",
    "pline = (Pipeline()\n",
    "         .add(ldr)                 # .add returns self\n",
    "         .add([trans, trans])      # so you can chain pipes \n",
    "         .add(output)              # like so \n",
    "         .build())                 # and build chains too \n",
    "\n",
    "# draw pipeline\n",
    "pline.diagram()                    # this does not chain"
   ]
  },
  {
   "cell_type": "markdown",
   "metadata": {},
   "source": [
    "We setup the pipeline exactly as before, except now when we add Transform to the pipeline we create two nodes. However it's somewhat unclear what happens to the data after Source. To understand what's happening here we have to introduce the concept of a Stream.\n",
    "\n",
    "A Stream is a logical queue, in this case a `multiprocessing.Queue` object that holds the data while the pipe processes are busy. Each pipe segment is separated by a Stream forming a bipartite graph."
   ]
  },
  {
   "cell_type": "code",
   "execution_count": 52,
   "metadata": {},
   "outputs": [
    {
     "data": {
      "image/svg+xml": [
       "<?xml version=\"1.0\" encoding=\"UTF-8\" standalone=\"no\"?>\n",
       "<!DOCTYPE svg PUBLIC \"-//W3C//DTD SVG 1.1//EN\"\n",
       " \"http://www.w3.org/Graphics/SVG/1.1/DTD/svg11.dtd\">\n",
       "<!-- Generated by graphviz version 2.42.3 (20191010.1750)\n",
       " -->\n",
       "<!-- Title: %3 Pages: 1 -->\n",
       "<svg width=\"172pt\" height=\"332pt\"\n",
       " viewBox=\"0.00 0.00 171.79 332.00\" xmlns=\"http://www.w3.org/2000/svg\" xmlns:xlink=\"http://www.w3.org/1999/xlink\">\n",
       "<g id=\"graph0\" class=\"graph\" transform=\"scale(1 1) rotate(0) translate(4 328)\">\n",
       "<title>%3</title>\n",
       "<polygon fill=\"white\" stroke=\"transparent\" points=\"-4,4 -4,-328 167.79,-328 167.79,4 -4,4\"/>\n",
       "<!-- 140500256304488 -->\n",
       "<g id=\"node1\" class=\"node\">\n",
       "<title>140500256304488</title>\n",
       "<ellipse fill=\"none\" stroke=\"black\" cx=\"81.4\" cy=\"-306\" rx=\"32.49\" ry=\"18\"/>\n",
       "<text text-anchor=\"middle\" x=\"81.4\" y=\"-302.3\" font-family=\"Times,serif\" font-size=\"14.00\">loader</text>\n",
       "</g>\n",
       "<!-- 140500256304432 -->\n",
       "<g id=\"node2\" class=\"node\">\n",
       "<title>140500256304432</title>\n",
       "<polygon fill=\"none\" stroke=\"black\" points=\"108.4,-252 54.4,-252 54.4,-216 108.4,-216 108.4,-252\"/>\n",
       "<text text-anchor=\"middle\" x=\"81.4\" y=\"-230.3\" font-family=\"Times,serif\" font-size=\"14.00\">queue</text>\n",
       "</g>\n",
       "<!-- 140500256304488&#45;&gt;140500256304432 -->\n",
       "<g id=\"edge1\" class=\"edge\">\n",
       "<title>140500256304488&#45;&gt;140500256304432</title>\n",
       "<path fill=\"none\" stroke=\"black\" d=\"M81.4,-287.7C81.4,-279.98 81.4,-270.71 81.4,-262.11\"/>\n",
       "<polygon fill=\"black\" stroke=\"black\" points=\"84.9,-262.1 81.4,-252.1 77.9,-262.1 84.9,-262.1\"/>\n",
       "</g>\n",
       "<!-- 140500256239288 -->\n",
       "<g id=\"node3\" class=\"node\">\n",
       "<title>140500256239288</title>\n",
       "<ellipse fill=\"none\" stroke=\"black\" cx=\"36.4\" cy=\"-162\" rx=\"36.29\" ry=\"18\"/>\n",
       "<text text-anchor=\"middle\" x=\"36.4\" y=\"-158.3\" font-family=\"Times,serif\" font-size=\"14.00\">trans_0</text>\n",
       "</g>\n",
       "<!-- 140500256304432&#45;&gt;140500256239288 -->\n",
       "<g id=\"edge2\" class=\"edge\">\n",
       "<title>140500256304432&#45;&gt;140500256239288</title>\n",
       "<path fill=\"none\" stroke=\"black\" d=\"M70.27,-215.7C64.96,-207.44 58.51,-197.39 52.66,-188.3\"/>\n",
       "<polygon fill=\"black\" stroke=\"black\" points=\"55.43,-186.14 47.08,-179.62 49.55,-189.93 55.43,-186.14\"/>\n",
       "</g>\n",
       "<!-- 140500256237944 -->\n",
       "<g id=\"node4\" class=\"node\">\n",
       "<title>140500256237944</title>\n",
       "<ellipse fill=\"none\" stroke=\"black\" cx=\"127.4\" cy=\"-162\" rx=\"36.29\" ry=\"18\"/>\n",
       "<text text-anchor=\"middle\" x=\"127.4\" y=\"-158.3\" font-family=\"Times,serif\" font-size=\"14.00\">trans_1</text>\n",
       "</g>\n",
       "<!-- 140500256304432&#45;&gt;140500256237944 -->\n",
       "<g id=\"edge3\" class=\"edge\">\n",
       "<title>140500256304432&#45;&gt;140500256237944</title>\n",
       "<path fill=\"none\" stroke=\"black\" d=\"M92.77,-215.7C98.25,-207.35 104.93,-197.18 110.96,-188.02\"/>\n",
       "<polygon fill=\"black\" stroke=\"black\" points=\"113.91,-189.9 116.47,-179.62 108.06,-186.06 113.91,-189.9\"/>\n",
       "</g>\n",
       "<!-- 140500595160288 -->\n",
       "<g id=\"node5\" class=\"node\">\n",
       "<title>140500595160288</title>\n",
       "<polygon fill=\"none\" stroke=\"black\" points=\"108.4,-108 54.4,-108 54.4,-72 108.4,-72 108.4,-108\"/>\n",
       "<text text-anchor=\"middle\" x=\"81.4\" y=\"-86.3\" font-family=\"Times,serif\" font-size=\"14.00\">queue</text>\n",
       "</g>\n",
       "<!-- 140500256239288&#45;&gt;140500595160288 -->\n",
       "<g id=\"edge4\" class=\"edge\">\n",
       "<title>140500256239288&#45;&gt;140500595160288</title>\n",
       "<path fill=\"none\" stroke=\"black\" d=\"M47.06,-144.41C52.34,-136.2 58.83,-126.1 64.75,-116.9\"/>\n",
       "<polygon fill=\"black\" stroke=\"black\" points=\"67.72,-118.75 70.18,-108.45 61.83,-114.97 67.72,-118.75\"/>\n",
       "</g>\n",
       "<!-- 140500256237944&#45;&gt;140500595160288 -->\n",
       "<g id=\"edge6\" class=\"edge\">\n",
       "<title>140500256237944&#45;&gt;140500595160288</title>\n",
       "<path fill=\"none\" stroke=\"black\" d=\"M116.73,-144.76C111.26,-136.44 104.46,-126.1 98.3,-116.73\"/>\n",
       "<polygon fill=\"black\" stroke=\"black\" points=\"101.07,-114.56 92.65,-108.12 95.22,-118.4 101.07,-114.56\"/>\n",
       "</g>\n",
       "<!-- 140500595159840 -->\n",
       "<g id=\"node6\" class=\"node\">\n",
       "<title>140500595159840</title>\n",
       "<ellipse fill=\"none\" stroke=\"black\" cx=\"81.4\" cy=\"-18\" rx=\"33.29\" ry=\"18\"/>\n",
       "<text text-anchor=\"middle\" x=\"81.4\" y=\"-14.3\" font-family=\"Times,serif\" font-size=\"14.00\">output</text>\n",
       "</g>\n",
       "<!-- 140500595160288&#45;&gt;140500595159840 -->\n",
       "<g id=\"edge5\" class=\"edge\">\n",
       "<title>140500595160288&#45;&gt;140500595159840</title>\n",
       "<path fill=\"none\" stroke=\"black\" d=\"M81.4,-71.7C81.4,-63.98 81.4,-54.71 81.4,-46.11\"/>\n",
       "<polygon fill=\"black\" stroke=\"black\" points=\"84.9,-46.1 81.4,-36.1 77.9,-46.1 84.9,-46.1\"/>\n",
       "</g>\n",
       "</g>\n",
       "</svg>\n"
      ],
      "text/plain": [
       "<graphviz.dot.Digraph at 0x7fc8c3eba048>"
      ]
     },
     "execution_count": 52,
     "metadata": {},
     "output_type": "execute_result"
    }
   ],
   "source": [
    "pline.diagram(draw_streams=True)"
   ]
  },
  {
   "cell_type": "markdown",
   "metadata": {},
   "source": [
    "We see that `loader` puts data on its downstream queue while both `trans_0` and `trans_1` get data from that same queue. This allows the two Transform processes to executing asynchronously. The first available Transform process will take the data, so in this graph the order of data chunks in not necessarily preserved. "
   ]
  },
  {
   "cell_type": "code",
   "execution_count": 11,
   "metadata": {
    "scrolled": false
   },
   "outputs": [
    {
     "name": "stdout",
     "output_type": "stream",
     "text": [
      "x = 0\n",
      "x = 1\n",
      "x = 4\n",
      "x = 9\n",
      "x = 16\n",
      "x = 25\n"
     ]
    },
    {
     "name": "stderr",
     "output_type": "stream",
     "text": [
      "2020-03-01 15:47:31,102 - INFO - loader - End of stream\n"
     ]
    },
    {
     "name": "stdout",
     "output_type": "stream",
     "text": [
      "x = 36\n"
     ]
    },
    {
     "name": "stderr",
     "output_type": "stream",
     "text": [
      "2020-03-01 15:47:31,602 - INFO - loader - Local termination\n"
     ]
    },
    {
     "name": "stdout",
     "output_type": "stream",
     "text": [
      "x = 49\n"
     ]
    },
    {
     "name": "stderr",
     "output_type": "stream",
     "text": [
      "2020-03-01 15:47:31,640 - INFO - trans_0 - Local termination\n"
     ]
    },
    {
     "name": "stdout",
     "output_type": "stream",
     "text": [
      "x = 64\n"
     ]
    },
    {
     "name": "stderr",
     "output_type": "stream",
     "text": [
      "2020-03-01 15:47:32,143 - INFO - trans_1 - Local termination\n"
     ]
    },
    {
     "name": "stdout",
     "output_type": "stream",
     "text": [
      "x = 81\n"
     ]
    },
    {
     "name": "stderr",
     "output_type": "stream",
     "text": [
      "2020-03-01 15:47:32,645 - INFO - save - Local termination\n",
      "2020-03-01 15:47:32,650 - INFO - main - Warm-up time: 0.01s\n",
      "2020-03-01 15:47:32,651 - INFO - main - Run time: 6.55s\n",
      "2020-03-01 15:47:32,652 - INFO - main - Total time: 6.56s\n"
     ]
    }
   ],
   "source": [
    "pline.run(timeit=True)"
   ]
  },
  {
   "cell_type": "markdown",
   "metadata": {},
   "source": [
    "We see it takes just over 6.5s as expected, about 1/3rd of the original execution time. \n",
    "\n",
    "At this point the only way to speed things up further is to introduce parallel load processes. This can be done by using two separate Sources each with their own generator function."
   ]
  },
  {
   "cell_type": "code",
   "execution_count": 53,
   "metadata": {},
   "outputs": [
    {
     "data": {
      "image/svg+xml": [
       "<?xml version=\"1.0\" encoding=\"UTF-8\" standalone=\"no\"?>\n",
       "<!DOCTYPE svg PUBLIC \"-//W3C//DTD SVG 1.1//EN\"\n",
       " \"http://www.w3.org/Graphics/SVG/1.1/DTD/svg11.dtd\">\n",
       "<!-- Generated by graphviz version 2.42.3 (20191010.1750)\n",
       " -->\n",
       "<!-- Title: %3 Pages: 1 -->\n",
       "<svg width=\"354pt\" height=\"332pt\"\n",
       " viewBox=\"0.00 0.00 353.79 332.00\" xmlns=\"http://www.w3.org/2000/svg\" xmlns:xlink=\"http://www.w3.org/1999/xlink\">\n",
       "<g id=\"graph0\" class=\"graph\" transform=\"scale(1 1) rotate(0) translate(4 328)\">\n",
       "<title>%3</title>\n",
       "<polygon fill=\"white\" stroke=\"transparent\" points=\"-4,4 -4,-328 349.79,-328 349.79,4 -4,4\"/>\n",
       "<!-- 140500595229696 -->\n",
       "<g id=\"node1\" class=\"node\">\n",
       "<title>140500595229696</title>\n",
       "<ellipse fill=\"none\" stroke=\"black\" cx=\"122.4\" cy=\"-306\" rx=\"41.69\" ry=\"18\"/>\n",
       "<text text-anchor=\"middle\" x=\"122.4\" y=\"-302.3\" font-family=\"Times,serif\" font-size=\"14.00\">loader_0</text>\n",
       "</g>\n",
       "<!-- 140500595230368 -->\n",
       "<g id=\"node2\" class=\"node\">\n",
       "<title>140500595230368</title>\n",
       "<polygon fill=\"none\" stroke=\"black\" points=\"199.4,-252 145.4,-252 145.4,-216 199.4,-216 199.4,-252\"/>\n",
       "<text text-anchor=\"middle\" x=\"172.4\" y=\"-230.3\" font-family=\"Times,serif\" font-size=\"14.00\">queue</text>\n",
       "</g>\n",
       "<!-- 140500595229696&#45;&gt;140500595230368 -->\n",
       "<g id=\"edge1\" class=\"edge\">\n",
       "<title>140500595229696&#45;&gt;140500595230368</title>\n",
       "<path fill=\"none\" stroke=\"black\" d=\"M134.25,-288.41C140.17,-280.12 147.47,-269.89 154.1,-260.62\"/>\n",
       "<polygon fill=\"black\" stroke=\"black\" points=\"156.97,-262.62 159.93,-252.45 151.27,-258.55 156.97,-262.62\"/>\n",
       "</g>\n",
       "<!-- 140500256389888 -->\n",
       "<g id=\"node3\" class=\"node\">\n",
       "<title>140500256389888</title>\n",
       "<ellipse fill=\"none\" stroke=\"black\" cx=\"36.4\" cy=\"-162\" rx=\"36.29\" ry=\"18\"/>\n",
       "<text text-anchor=\"middle\" x=\"36.4\" y=\"-158.3\" font-family=\"Times,serif\" font-size=\"14.00\">trans_0</text>\n",
       "</g>\n",
       "<!-- 140500595230368&#45;&gt;140500256389888 -->\n",
       "<g id=\"edge2\" class=\"edge\">\n",
       "<title>140500595230368&#45;&gt;140500256389888</title>\n",
       "<path fill=\"none\" stroke=\"black\" d=\"M145.2,-219C123.54,-207.85 93.1,-192.19 69.93,-180.26\"/>\n",
       "<polygon fill=\"black\" stroke=\"black\" points=\"71.3,-177.03 60.81,-175.56 68.09,-183.25 71.3,-177.03\"/>\n",
       "</g>\n",
       "<!-- 140500256390616 -->\n",
       "<g id=\"node4\" class=\"node\">\n",
       "<title>140500256390616</title>\n",
       "<ellipse fill=\"none\" stroke=\"black\" cx=\"127.4\" cy=\"-162\" rx=\"36.29\" ry=\"18\"/>\n",
       "<text text-anchor=\"middle\" x=\"127.4\" y=\"-158.3\" font-family=\"Times,serif\" font-size=\"14.00\">trans_1</text>\n",
       "</g>\n",
       "<!-- 140500595230368&#45;&gt;140500256390616 -->\n",
       "<g id=\"edge3\" class=\"edge\">\n",
       "<title>140500595230368&#45;&gt;140500256390616</title>\n",
       "<path fill=\"none\" stroke=\"black\" d=\"M161.27,-215.7C155.96,-207.44 149.51,-197.39 143.66,-188.3\"/>\n",
       "<polygon fill=\"black\" stroke=\"black\" points=\"146.43,-186.14 138.08,-179.62 140.55,-189.93 146.43,-186.14\"/>\n",
       "</g>\n",
       "<!-- 140500256358640 -->\n",
       "<g id=\"node5\" class=\"node\">\n",
       "<title>140500256358640</title>\n",
       "<ellipse fill=\"none\" stroke=\"black\" cx=\"218.4\" cy=\"-162\" rx=\"36.29\" ry=\"18\"/>\n",
       "<text text-anchor=\"middle\" x=\"218.4\" y=\"-158.3\" font-family=\"Times,serif\" font-size=\"14.00\">trans_2</text>\n",
       "</g>\n",
       "<!-- 140500595230368&#45;&gt;140500256358640 -->\n",
       "<g id=\"edge4\" class=\"edge\">\n",
       "<title>140500595230368&#45;&gt;140500256358640</title>\n",
       "<path fill=\"none\" stroke=\"black\" d=\"M183.77,-215.7C189.25,-207.35 195.93,-197.18 201.96,-188.02\"/>\n",
       "<polygon fill=\"black\" stroke=\"black\" points=\"204.91,-189.9 207.47,-179.62 199.06,-186.06 204.91,-189.9\"/>\n",
       "</g>\n",
       "<!-- 140500256359368 -->\n",
       "<g id=\"node6\" class=\"node\">\n",
       "<title>140500256359368</title>\n",
       "<ellipse fill=\"none\" stroke=\"black\" cx=\"309.4\" cy=\"-162\" rx=\"36.29\" ry=\"18\"/>\n",
       "<text text-anchor=\"middle\" x=\"309.4\" y=\"-158.3\" font-family=\"Times,serif\" font-size=\"14.00\">trans_3</text>\n",
       "</g>\n",
       "<!-- 140500595230368&#45;&gt;140500256359368 -->\n",
       "<g id=\"edge5\" class=\"edge\">\n",
       "<title>140500595230368&#45;&gt;140500256359368</title>\n",
       "<path fill=\"none\" stroke=\"black\" d=\"M199.46,-219.17C221.36,-207.98 252.29,-192.18 275.77,-180.18\"/>\n",
       "<polygon fill=\"black\" stroke=\"black\" points=\"277.38,-183.29 284.69,-175.62 274.19,-177.06 277.38,-183.29\"/>\n",
       "</g>\n",
       "<!-- 140500256362112 -->\n",
       "<g id=\"node8\" class=\"node\">\n",
       "<title>140500256362112</title>\n",
       "<polygon fill=\"none\" stroke=\"black\" points=\"199.4,-108 145.4,-108 145.4,-72 199.4,-72 199.4,-108\"/>\n",
       "<text text-anchor=\"middle\" x=\"172.4\" y=\"-86.3\" font-family=\"Times,serif\" font-size=\"14.00\">queue</text>\n",
       "</g>\n",
       "<!-- 140500256389888&#45;&gt;140500256362112 -->\n",
       "<g id=\"edge7\" class=\"edge\">\n",
       "<title>140500256389888&#45;&gt;140500256362112</title>\n",
       "<path fill=\"none\" stroke=\"black\" d=\"M60.71,-148.49C81.62,-137.72 112.09,-122.04 135.92,-109.78\"/>\n",
       "<polygon fill=\"black\" stroke=\"black\" points=\"137.73,-112.78 145.02,-105.09 134.53,-106.56 137.73,-112.78\"/>\n",
       "</g>\n",
       "<!-- 140500256390616&#45;&gt;140500256362112 -->\n",
       "<g id=\"edge10\" class=\"edge\">\n",
       "<title>140500256390616&#45;&gt;140500256362112</title>\n",
       "<path fill=\"none\" stroke=\"black\" d=\"M138.06,-144.41C143.34,-136.2 149.83,-126.1 155.75,-116.9\"/>\n",
       "<polygon fill=\"black\" stroke=\"black\" points=\"158.72,-118.75 161.18,-108.45 152.83,-114.97 158.72,-118.75\"/>\n",
       "</g>\n",
       "<!-- 140500256358640&#45;&gt;140500256362112 -->\n",
       "<g id=\"edge11\" class=\"edge\">\n",
       "<title>140500256358640&#45;&gt;140500256362112</title>\n",
       "<path fill=\"none\" stroke=\"black\" d=\"M207.73,-144.76C202.26,-136.44 195.46,-126.1 189.3,-116.73\"/>\n",
       "<polygon fill=\"black\" stroke=\"black\" points=\"192.07,-114.56 183.65,-108.12 186.22,-118.4 192.07,-114.56\"/>\n",
       "</g>\n",
       "<!-- 140500256359368&#45;&gt;140500256362112 -->\n",
       "<g id=\"edge12\" class=\"edge\">\n",
       "<title>140500256359368&#45;&gt;140500256362112</title>\n",
       "<path fill=\"none\" stroke=\"black\" d=\"M284.9,-148.49C263.7,-137.65 232.75,-121.84 208.68,-109.54\"/>\n",
       "<polygon fill=\"black\" stroke=\"black\" points=\"209.99,-106.28 199.49,-104.85 206.81,-112.51 209.99,-106.28\"/>\n",
       "</g>\n",
       "<!-- 140500256389160 -->\n",
       "<g id=\"node7\" class=\"node\">\n",
       "<title>140500256389160</title>\n",
       "<ellipse fill=\"none\" stroke=\"black\" cx=\"223.4\" cy=\"-306\" rx=\"41.69\" ry=\"18\"/>\n",
       "<text text-anchor=\"middle\" x=\"223.4\" y=\"-302.3\" font-family=\"Times,serif\" font-size=\"14.00\">loader_1</text>\n",
       "</g>\n",
       "<!-- 140500256389160&#45;&gt;140500595230368 -->\n",
       "<g id=\"edge6\" class=\"edge\">\n",
       "<title>140500256389160&#45;&gt;140500595230368</title>\n",
       "<path fill=\"none\" stroke=\"black\" d=\"M211.31,-288.41C205.27,-280.12 197.82,-269.89 191.06,-260.62\"/>\n",
       "<polygon fill=\"black\" stroke=\"black\" points=\"193.83,-258.47 185.11,-252.45 188.17,-262.59 193.83,-258.47\"/>\n",
       "</g>\n",
       "<!-- 140500256362168 -->\n",
       "<g id=\"node9\" class=\"node\">\n",
       "<title>140500256362168</title>\n",
       "<ellipse fill=\"none\" stroke=\"black\" cx=\"121.4\" cy=\"-18\" rx=\"42.49\" ry=\"18\"/>\n",
       "<text text-anchor=\"middle\" x=\"121.4\" y=\"-14.3\" font-family=\"Times,serif\" font-size=\"14.00\">output_0</text>\n",
       "</g>\n",
       "<!-- 140500256362112&#45;&gt;140500256362168 -->\n",
       "<g id=\"edge8\" class=\"edge\">\n",
       "<title>140500256362112&#45;&gt;140500256362168</title>\n",
       "<path fill=\"none\" stroke=\"black\" d=\"M159.79,-71.7C153.65,-63.27 146.15,-52.97 139.42,-43.73\"/>\n",
       "<polygon fill=\"black\" stroke=\"black\" points=\"142.22,-41.64 133.51,-35.62 136.57,-45.77 142.22,-41.64\"/>\n",
       "</g>\n",
       "<!-- 140500256403920 -->\n",
       "<g id=\"node10\" class=\"node\">\n",
       "<title>140500256403920</title>\n",
       "<ellipse fill=\"none\" stroke=\"black\" cx=\"223.4\" cy=\"-18\" rx=\"42.49\" ry=\"18\"/>\n",
       "<text text-anchor=\"middle\" x=\"223.4\" y=\"-14.3\" font-family=\"Times,serif\" font-size=\"14.00\">output_1</text>\n",
       "</g>\n",
       "<!-- 140500256362112&#45;&gt;140500256403920 -->\n",
       "<g id=\"edge9\" class=\"edge\">\n",
       "<title>140500256362112&#45;&gt;140500256403920</title>\n",
       "<path fill=\"none\" stroke=\"black\" d=\"M185,-71.7C191.15,-63.27 198.64,-52.97 205.38,-43.73\"/>\n",
       "<polygon fill=\"black\" stroke=\"black\" points=\"208.23,-45.77 211.29,-35.62 202.57,-41.64 208.23,-45.77\"/>\n",
       "</g>\n",
       "</g>\n",
       "</svg>\n"
      ],
      "text/plain": [
       "<graphviz.dot.Digraph at 0x7fc8d811c668>"
      ]
     },
     "execution_count": 53,
     "metadata": {},
     "output_type": "execute_result"
    }
   ],
   "source": [
    "from copy import copy\n",
    "\n",
    "@Source\n",
    "def loader(start, stop, step):\n",
    "    for i in range(start, stop, step):\n",
    "        time.sleep(0.5)\n",
    "        yield i\n",
    "\n",
    "# initialize loaders\n",
    "# loaders iterate over different values \n",
    "ldr1 = loader(0, 10, 2) \n",
    "ldr2 = loader(1, 10, 2)  \n",
    "\n",
    "# build pipeline\n",
    "pline = (Pipeline()\n",
    "         .add([ldr1, ldr2])                       # two different Sources\n",
    "         .add([trans]*4)                          # you may use list multiplication  \n",
    "         .add([copy(output) for _ in range(2)])   # or make explicit copies              \n",
    "         .build())                 \n",
    "\n",
    "# draw pipeline\n",
    "pline.diagram(True)                    "
   ]
  },
  {
   "cell_type": "code",
   "execution_count": 15,
   "metadata": {},
   "outputs": [
    {
     "name": "stdout",
     "output_type": "stream",
     "text": [
      "x = 0\n",
      "x = 1\n"
     ]
    },
    {
     "name": "stderr",
     "output_type": "stream",
     "text": [
      "2020-03-01 15:53:28,920 - INFO - loader_0 - End of stream\n"
     ]
    },
    {
     "name": "stdout",
     "output_type": "stream",
     "text": [
      "x = 4\n",
      "x = 9\n",
      "x = 16\n",
      "x = 25\n"
     ]
    },
    {
     "name": "stderr",
     "output_type": "stream",
     "text": [
      "2020-03-01 15:53:29,431 - INFO - trans_1 - Local termination\n",
      "2020-03-01 15:53:29,435 - INFO - loader_0 - Local termination\n",
      "2020-03-01 15:53:29,434 - INFO - loader_1 - End of stream\n"
     ]
    },
    {
     "name": "stdout",
     "output_type": "stream",
     "text": [
      "x = 36\n",
      "x = 49\n"
     ]
    },
    {
     "name": "stderr",
     "output_type": "stream",
     "text": [
      "2020-03-01 15:53:29,937 - INFO - trans_3 - Local termination\n",
      "2020-03-01 15:53:29,940 - INFO - save_0 - Local termination\n",
      "2020-03-01 15:53:29,941 - INFO - loader_1 - Local termination\n"
     ]
    },
    {
     "name": "stdout",
     "output_type": "stream",
     "text": [
      "x = 64\n"
     ]
    },
    {
     "name": "stderr",
     "output_type": "stream",
     "text": [
      "2020-03-01 15:53:30,443 - INFO - trans_0 - Local termination\n"
     ]
    },
    {
     "name": "stdout",
     "output_type": "stream",
     "text": [
      "x = 81\n"
     ]
    },
    {
     "name": "stderr",
     "output_type": "stream",
     "text": [
      "2020-03-01 15:53:30,951 - INFO - save_1 - Local termination\n",
      "2020-03-01 15:53:30,949 - INFO - trans_2 - Local termination\n",
      "2020-03-01 15:53:30,958 - INFO - main - Warm-up time: 0.03s\n",
      "2020-03-01 15:53:30,960 - INFO - main - Run time: 4.52s\n",
      "2020-03-01 15:53:30,961 - INFO - main - Total time: 4.55s\n"
     ]
    }
   ],
   "source": [
    "pline.run(timeit=True)"
   ]
  },
  {
   "cell_type": "markdown",
   "metadata": {},
   "source": [
    "## Stateful Pipe Segments"
   ]
  },
  {
   "cell_type": "markdown",
   "metadata": {},
   "source": [
    "MiniPine also allows you to wrap Python classes for stateful pipe segments. For example create a Transform that keeps a running sum of values passed. "
   ]
  },
  {
   "cell_type": "code",
   "execution_count": 31,
   "metadata": {},
   "outputs": [],
   "source": [
    "@Transform\n",
    "class cumsum:\n",
    "    \n",
    "    def __init__(self):\n",
    "        self.n = 0\n",
    "    \n",
    "    @Transform.call\n",
    "    def add_to_sum(self, x):\n",
    "        self.n += x\n",
    "        return self.n"
   ]
  },
  {
   "cell_type": "markdown",
   "metadata": {},
   "source": [
    "The decorator `Transform.call` is used to tell MiniPipe which method to call on its upstream(s). This decorator is inherited from `Transform`'s parent class `Pipe` and may also be used with `Sink`. "
   ]
  },
  {
   "cell_type": "code",
   "execution_count": 54,
   "metadata": {},
   "outputs": [
    {
     "data": {
      "image/svg+xml": [
       "<?xml version=\"1.0\" encoding=\"UTF-8\" standalone=\"no\"?>\n",
       "<!DOCTYPE svg PUBLIC \"-//W3C//DTD SVG 1.1//EN\"\n",
       " \"http://www.w3.org/Graphics/SVG/1.1/DTD/svg11.dtd\">\n",
       "<!-- Generated by graphviz version 2.42.3 (20191010.1750)\n",
       " -->\n",
       "<!-- Title: %3 Pages: 1 -->\n",
       "<svg width=\"91pt\" height=\"260pt\"\n",
       " viewBox=\"0.00 0.00 91.19 260.00\" xmlns=\"http://www.w3.org/2000/svg\" xmlns:xlink=\"http://www.w3.org/1999/xlink\">\n",
       "<g id=\"graph0\" class=\"graph\" transform=\"scale(1 1) rotate(0) translate(4 256)\">\n",
       "<title>%3</title>\n",
       "<polygon fill=\"white\" stroke=\"transparent\" points=\"-4,4 -4,-256 87.19,-256 87.19,4 -4,4\"/>\n",
       "<!-- 140500256154400 -->\n",
       "<g id=\"node1\" class=\"node\">\n",
       "<title>140500256154400</title>\n",
       "<ellipse fill=\"none\" stroke=\"black\" cx=\"41.6\" cy=\"-234\" rx=\"32.49\" ry=\"18\"/>\n",
       "<text text-anchor=\"middle\" x=\"41.6\" y=\"-230.3\" font-family=\"Times,serif\" font-size=\"14.00\">loader</text>\n",
       "</g>\n",
       "<!-- 140500256307968 -->\n",
       "<g id=\"node2\" class=\"node\">\n",
       "<title>140500256307968</title>\n",
       "<ellipse fill=\"none\" stroke=\"black\" cx=\"41.6\" cy=\"-162\" rx=\"27.9\" ry=\"18\"/>\n",
       "<text text-anchor=\"middle\" x=\"41.6\" y=\"-158.3\" font-family=\"Times,serif\" font-size=\"14.00\">trans</text>\n",
       "</g>\n",
       "<!-- 140500256154400&#45;&gt;140500256307968 -->\n",
       "<g id=\"edge1\" class=\"edge\">\n",
       "<title>140500256154400&#45;&gt;140500256307968</title>\n",
       "<path fill=\"none\" stroke=\"black\" d=\"M41.6,-215.7C41.6,-207.98 41.6,-198.71 41.6,-190.11\"/>\n",
       "<polygon fill=\"black\" stroke=\"black\" points=\"45.1,-190.1 41.6,-180.1 38.1,-190.1 45.1,-190.1\"/>\n",
       "</g>\n",
       "<!-- 140500256308864 -->\n",
       "<g id=\"node3\" class=\"node\">\n",
       "<title>140500256308864</title>\n",
       "<ellipse fill=\"none\" stroke=\"black\" cx=\"41.6\" cy=\"-90\" rx=\"41.69\" ry=\"18\"/>\n",
       "<text text-anchor=\"middle\" x=\"41.6\" y=\"-86.3\" font-family=\"Times,serif\" font-size=\"14.00\">cumsum</text>\n",
       "</g>\n",
       "<!-- 140500256307968&#45;&gt;140500256308864 -->\n",
       "<g id=\"edge2\" class=\"edge\">\n",
       "<title>140500256307968&#45;&gt;140500256308864</title>\n",
       "<path fill=\"none\" stroke=\"black\" d=\"M41.6,-143.7C41.6,-135.98 41.6,-126.71 41.6,-118.11\"/>\n",
       "<polygon fill=\"black\" stroke=\"black\" points=\"45.1,-118.1 41.6,-108.1 38.1,-118.1 45.1,-118.1\"/>\n",
       "</g>\n",
       "<!-- 140500256406440 -->\n",
       "<g id=\"node4\" class=\"node\">\n",
       "<title>140500256406440</title>\n",
       "<ellipse fill=\"none\" stroke=\"black\" cx=\"41.6\" cy=\"-18\" rx=\"33.29\" ry=\"18\"/>\n",
       "<text text-anchor=\"middle\" x=\"41.6\" y=\"-14.3\" font-family=\"Times,serif\" font-size=\"14.00\">output</text>\n",
       "</g>\n",
       "<!-- 140500256308864&#45;&gt;140500256406440 -->\n",
       "<g id=\"edge3\" class=\"edge\">\n",
       "<title>140500256308864&#45;&gt;140500256406440</title>\n",
       "<path fill=\"none\" stroke=\"black\" d=\"M41.6,-71.7C41.6,-63.98 41.6,-54.71 41.6,-46.11\"/>\n",
       "<polygon fill=\"black\" stroke=\"black\" points=\"45.1,-46.1 41.6,-36.1 38.1,-46.1 45.1,-46.1\"/>\n",
       "</g>\n",
       "</g>\n",
       "</svg>\n"
      ],
      "text/plain": [
       "<graphviz.dot.Digraph at 0x7fc8c3dcd048>"
      ]
     },
     "execution_count": 54,
     "metadata": {},
     "output_type": "execute_result"
    }
   ],
   "source": [
    "# initialize class pipe segments first\n",
    "csum = cumsum()\n",
    "\n",
    "pline = (Pipeline()\n",
    "         .add(ldr)\n",
    "         .add(trans)\n",
    "         .add(csum)\n",
    "         .add(output) \n",
    "         .build())\n",
    "\n",
    "pline.diagram()"
   ]
  },
  {
   "cell_type": "code",
   "execution_count": 33,
   "metadata": {},
   "outputs": [
    {
     "name": "stdout",
     "output_type": "stream",
     "text": [
      "x = 0\n",
      "x = 1\n",
      "x = 5\n",
      "x = 14\n",
      "x = 30\n",
      "x = 55\n",
      "x = 91\n"
     ]
    },
    {
     "name": "stderr",
     "output_type": "stream",
     "text": [
      "2020-03-01 16:10:38,015 - INFO - loader - End of stream\n"
     ]
    },
    {
     "name": "stdout",
     "output_type": "stream",
     "text": [
      "x = 140\n"
     ]
    },
    {
     "name": "stderr",
     "output_type": "stream",
     "text": [
      "2020-03-01 16:10:39,016 - INFO - loader - Local termination\n"
     ]
    },
    {
     "name": "stdout",
     "output_type": "stream",
     "text": [
      "x = 204\n"
     ]
    },
    {
     "name": "stderr",
     "output_type": "stream",
     "text": [
      "2020-03-01 16:10:40,018 - INFO - trans - Local termination\n",
      "2020-03-01 16:10:40,020 - INFO - cumsum - Local termination\n"
     ]
    },
    {
     "name": "stdout",
     "output_type": "stream",
     "text": [
      "x = 285\n"
     ]
    },
    {
     "name": "stderr",
     "output_type": "stream",
     "text": [
      "2020-03-01 16:10:40,521 - INFO - save - Local termination\n"
     ]
    }
   ],
   "source": [
    "pline.run()"
   ]
  },
  {
   "cell_type": "markdown",
   "metadata": {},
   "source": [
    "Here we've initialized `self.n` on the main process, however you can initialize objects on the child process with the `Pipe.init` decorator. We can also use `Pipe.term` to call a method at the end of the stream, this is especially handy for saving data.  "
   ]
  },
  {
   "cell_type": "code",
   "execution_count": 5,
   "metadata": {},
   "outputs": [
    {
     "name": "stdout",
     "output_type": "stream",
     "text": [
      "x = 10\n",
      "x = 11\n",
      "x = 15\n",
      "x = 24\n",
      "x = 40\n",
      "x = 65\n",
      "x = 101\n"
     ]
    },
    {
     "name": "stderr",
     "output_type": "stream",
     "text": [
      "2020-03-01 17:24:11,555 - INFO - loader - End of stream\n"
     ]
    },
    {
     "name": "stdout",
     "output_type": "stream",
     "text": [
      "x = 150\n"
     ]
    },
    {
     "name": "stderr",
     "output_type": "stream",
     "text": [
      "2020-03-01 17:24:12,557 - INFO - loader - Local termination\n"
     ]
    },
    {
     "name": "stdout",
     "output_type": "stream",
     "text": [
      "x = 214\n"
     ]
    },
    {
     "name": "stderr",
     "output_type": "stream",
     "text": [
      "2020-03-01 17:24:13,559 - INFO - trans - Local termination\n",
      "2020-03-01 17:24:13,562 - INFO - cumsum - Local termination\n"
     ]
    },
    {
     "name": "stdout",
     "output_type": "stream",
     "text": [
      "Saving data..\n",
      "x = 295\n"
     ]
    },
    {
     "name": "stderr",
     "output_type": "stream",
     "text": [
      "2020-03-01 17:24:14,062 - INFO - output - Local termination\n"
     ]
    }
   ],
   "source": [
    "@Transform\n",
    "class cumsum:\n",
    "    \n",
    "    def __init__(self):\n",
    "        self.n = 0\n",
    "    \n",
    "    @Transform.init       # runs on child process before stream\n",
    "    def local_init(self):\n",
    "        self.n = 10\n",
    "    \n",
    "    @Transform.call\n",
    "    def add_to_sum(self, x):\n",
    "        self.n += x\n",
    "        return self.n\n",
    "    \n",
    "    @Transform.term      # runs on child process after stream\n",
    "    def done(self):\n",
    "        print('Saving data..')\n",
    "        # save to disk\n",
    "    \n",
    "csum = cumsum()\n",
    "\n",
    "pline = (Pipeline()\n",
    "         .add(ldr)\n",
    "         .add(trans)\n",
    "         .add(csum)\n",
    "         .add(output) \n",
    "         .build())\n",
    "\n",
    "pline.run()"
   ]
  },
  {
   "cell_type": "markdown",
   "metadata": {},
   "source": [
    "However, we may want our pipeline to produce a result in memory rather that saving to disk. For this we can use the `Pipe.result` decorator. Like `Pipe.term` this method will only be called once at the end of the stream.  "
   ]
  },
  {
   "cell_type": "code",
   "execution_count": 6,
   "metadata": {},
   "outputs": [
    {
     "name": "stdout",
     "output_type": "stream",
     "text": [
      "x = 10\n",
      "x = 11\n",
      "x = 15\n",
      "x = 24\n",
      "x = 40\n",
      "x = 65\n",
      "x = 101\n"
     ]
    },
    {
     "name": "stderr",
     "output_type": "stream",
     "text": [
      "2020-03-01 17:24:22,609 - INFO - loader - End of stream\n"
     ]
    },
    {
     "name": "stdout",
     "output_type": "stream",
     "text": [
      "x = 150\n"
     ]
    },
    {
     "name": "stderr",
     "output_type": "stream",
     "text": [
      "2020-03-01 17:24:23,610 - INFO - loader - Local termination\n"
     ]
    },
    {
     "name": "stdout",
     "output_type": "stream",
     "text": [
      "x = 214\n"
     ]
    },
    {
     "name": "stderr",
     "output_type": "stream",
     "text": [
      "2020-03-01 17:24:24,612 - INFO - trans - Local termination\n",
      "2020-03-01 17:24:24,614 - INFO - cumsum - Local termination\n"
     ]
    },
    {
     "name": "stdout",
     "output_type": "stream",
     "text": [
      "x = 295\n"
     ]
    },
    {
     "name": "stderr",
     "output_type": "stream",
     "text": [
      "2020-03-01 17:24:25,115 - INFO - output - Local termination\n"
     ]
    }
   ],
   "source": [
    "@Transform\n",
    "class cumsum:\n",
    "    \n",
    "    def __init__(self):\n",
    "        self.n = 0\n",
    "    \n",
    "    @Transform.init     # runs on child process before stream\n",
    "    def local_init(self):\n",
    "        self.n = 10 \n",
    "    \n",
    "    @Transform.call\n",
    "    def add_to_sum(self, x):\n",
    "        self.n += x\n",
    "        return self.n\n",
    "    \n",
    "    @Transform.result  # runs on child process after stream\n",
    "    def done(self):\n",
    "        return self.n  # value is stored and returned by Pipeline.run\n",
    "    \n",
    "csum = cumsum()\n",
    "\n",
    "pline = (Pipeline()\n",
    "         .add(ldr)\n",
    "         .add(trans)\n",
    "         .add(csum)\n",
    "         .add(output) \n",
    "         .build())\n",
    "\n",
    "res = pline.run()"
   ]
  },
  {
   "cell_type": "code",
   "execution_count": 7,
   "metadata": {},
   "outputs": [
    {
     "name": "stdout",
     "output_type": "stream",
     "text": [
      "{'cumsum': 295}\n"
     ]
    }
   ],
   "source": [
    "print(res)"
   ]
  },
  {
   "cell_type": "markdown",
   "metadata": {},
   "source": [
    "The all values returned by methods decorated by 'Pipe.result' will be stored a dictionary and returned by `Pipeline.run`. The keys correspond to the name of the pipe segment. Thus each stateful pipe segment may return it's own result. "
   ]
  },
  {
   "cell_type": "markdown",
   "metadata": {},
   "source": [
    "## Regulator Pipe Segments"
   ]
  },
  {
   "cell_type": "markdown",
   "metadata": {},
   "source": [
    "A Regulator is a special type of pipe segment that has the ability to change the data-chunk throughput. Regulators are implemented with Python coroutines, which are restarted as soon as they're exhausted, i.e. when `next` raises `StopIteration`.  "
   ]
  },
  {
   "cell_type": "code",
   "execution_count": 54,
   "metadata": {},
   "outputs": [],
   "source": [
    "from minipipe import Regulator\n",
    "import numpy as np\n",
    "\n",
    "@Regulator\n",
    "def batch(batch_size):\n",
    "    x_batch = []                    \n",
    "    while len(x_batch) < batch_size:\n",
    "        x_batch.append((yield))     # input from upstream\n",
    "    yield x_batch                   # outputs to downsteam"
   ]
  },
  {
   "cell_type": "markdown",
   "metadata": {},
   "source": [
    "Here `x_batch` is initialized each time the coroutine is exhausted, thus there's no need to reinitialize it after yield. "
   ]
  },
  {
   "cell_type": "code",
   "execution_count": 55,
   "metadata": {},
   "outputs": [
    {
     "name": "stdout",
     "output_type": "stream",
     "text": [
      "x = [0, 1]\n",
      "x = [2, 3]\n",
      "x = [4, 5]\n",
      "x = [6, 7]\n"
     ]
    },
    {
     "name": "stderr",
     "output_type": "stream",
     "text": [
      "2020-03-01 18:42:26,883 - INFO - loader - End of stream\n",
      "2020-03-01 18:42:26,887 - INFO - loader - Local termination\n",
      "2020-03-01 18:42:26,889 - INFO - batch - Local termination\n"
     ]
    },
    {
     "name": "stdout",
     "output_type": "stream",
     "text": [
      "x = [8, 9]\n"
     ]
    },
    {
     "name": "stderr",
     "output_type": "stream",
     "text": [
      "2020-03-01 18:42:27,387 - INFO - output - Local termination\n"
     ]
    }
   ],
   "source": [
    "btchr = batch(2)\n",
    "\n",
    "pline = (Pipeline()\n",
    "         .add(ldr)\n",
    "         .add(btchr)\n",
    "         .add(output) \n",
    "         .build())\n",
    "\n",
    "pline.run()"
   ]
  },
  {
   "cell_type": "markdown",
   "metadata": {},
   "source": [
    "## Pipe Segments with Multiple Up/Down Streams"
   ]
  },
  {
   "cell_type": "markdown",
   "metadata": {},
   "source": [
    "It's possible for pipe segments to have multiple upstream and/or downstream. However, one must then explicitly pass the upstreams and downstreams to the `Pipeline.add` method. But first we must modify the `loader` to return multiple objects. "
   ]
  },
  {
   "cell_type": "code",
   "execution_count": 31,
   "metadata": {},
   "outputs": [],
   "source": [
    "@Source\n",
    "def multiloader(n, n_outputs):\n",
    "    for i in range(n):\n",
    "        time.sleep(0.5)\n",
    "        yield (i,)*n_outputs # returns a tuple of len n_outputs "
   ]
  },
  {
   "cell_type": "markdown",
   "metadata": {},
   "source": [
    "Likewise, if the pipe segment has multiple upstreams then the pipe needs to have multiple input args. "
   ]
  },
  {
   "cell_type": "code",
   "execution_count": 42,
   "metadata": {},
   "outputs": [],
   "source": [
    "@Transform\n",
    "def agg(*args):  # captures all inputs in list\n",
    "    return sum(args)"
   ]
  },
  {
   "cell_type": "markdown",
   "metadata": {},
   "source": [
    "The number of inputs/outputs to the pipe segment should equal the number of upstrearms/downstreams.  "
   ]
  },
  {
   "cell_type": "code",
   "execution_count": 53,
   "metadata": {},
   "outputs": [
    {
     "data": {
      "image/svg+xml": [
       "<?xml version=\"1.0\" encoding=\"UTF-8\" standalone=\"no\"?>\n",
       "<!DOCTYPE svg PUBLIC \"-//W3C//DTD SVG 1.1//EN\"\n",
       " \"http://www.w3.org/Graphics/SVG/1.1/DTD/svg11.dtd\">\n",
       "<!-- Generated by graphviz version 2.42.3 (20191010.1750)\n",
       " -->\n",
       "<!-- Title: %3 Pages: 1 -->\n",
       "<svg width=\"263pt\" height=\"476pt\"\n",
       " viewBox=\"0.00 0.00 262.79 476.00\" xmlns=\"http://www.w3.org/2000/svg\" xmlns:xlink=\"http://www.w3.org/1999/xlink\">\n",
       "<g id=\"graph0\" class=\"graph\" transform=\"scale(1 1) rotate(0) translate(4 472)\">\n",
       "<title>%3</title>\n",
       "<polygon fill=\"white\" stroke=\"transparent\" points=\"-4,4 -4,-472 258.79,-472 258.79,4 -4,4\"/>\n",
       "<!-- 140490805384752 -->\n",
       "<g id=\"node1\" class=\"node\">\n",
       "<title>140490805384752</title>\n",
       "<ellipse fill=\"none\" stroke=\"black\" cx=\"127.4\" cy=\"-450\" rx=\"51.99\" ry=\"18\"/>\n",
       "<text text-anchor=\"middle\" x=\"127.4\" y=\"-446.3\" font-family=\"Times,serif\" font-size=\"14.00\">multiloader</text>\n",
       "</g>\n",
       "<!-- 140490804250328 -->\n",
       "<g id=\"node2\" class=\"node\">\n",
       "<title>140490804250328</title>\n",
       "<polygon fill=\"none\" stroke=\"black\" points=\"73.4,-396 19.4,-396 19.4,-360 73.4,-360 73.4,-396\"/>\n",
       "<text text-anchor=\"middle\" x=\"46.4\" y=\"-374.3\" font-family=\"Times,serif\" font-size=\"14.00\">queue</text>\n",
       "</g>\n",
       "<!-- 140490805384752&#45;&gt;140490804250328 -->\n",
       "<g id=\"edge1\" class=\"edge\">\n",
       "<title>140490805384752&#45;&gt;140490804250328</title>\n",
       "<path fill=\"none\" stroke=\"black\" d=\"M109.02,-433.12C98.63,-424.14 85.43,-412.73 73.84,-402.71\"/>\n",
       "<polygon fill=\"black\" stroke=\"black\" points=\"75.97,-399.93 66.12,-396.04 71.4,-405.23 75.97,-399.93\"/>\n",
       "</g>\n",
       "<!-- 140490805386432 -->\n",
       "<g id=\"node4\" class=\"node\">\n",
       "<title>140490805386432</title>\n",
       "<polygon fill=\"none\" stroke=\"black\" points=\"154.4,-396 100.4,-396 100.4,-360 154.4,-360 154.4,-396\"/>\n",
       "<text text-anchor=\"middle\" x=\"127.4\" y=\"-374.3\" font-family=\"Times,serif\" font-size=\"14.00\">queue</text>\n",
       "</g>\n",
       "<!-- 140490805384752&#45;&gt;140490805386432 -->\n",
       "<g id=\"edge3\" class=\"edge\">\n",
       "<title>140490805384752&#45;&gt;140490805386432</title>\n",
       "<path fill=\"none\" stroke=\"black\" d=\"M127.4,-431.7C127.4,-423.98 127.4,-414.71 127.4,-406.11\"/>\n",
       "<polygon fill=\"black\" stroke=\"black\" points=\"130.9,-406.1 127.4,-396.1 123.9,-406.1 130.9,-406.1\"/>\n",
       "</g>\n",
       "<!-- 140490805356136 -->\n",
       "<g id=\"node6\" class=\"node\">\n",
       "<title>140490805356136</title>\n",
       "<polygon fill=\"none\" stroke=\"black\" points=\"235.4,-396 181.4,-396 181.4,-360 235.4,-360 235.4,-396\"/>\n",
       "<text text-anchor=\"middle\" x=\"208.4\" y=\"-374.3\" font-family=\"Times,serif\" font-size=\"14.00\">queue</text>\n",
       "</g>\n",
       "<!-- 140490805384752&#45;&gt;140490805356136 -->\n",
       "<g id=\"edge5\" class=\"edge\">\n",
       "<title>140490805384752&#45;&gt;140490805356136</title>\n",
       "<path fill=\"none\" stroke=\"black\" d=\"M145.78,-433.12C156.17,-424.14 169.36,-412.73 180.96,-402.71\"/>\n",
       "<polygon fill=\"black\" stroke=\"black\" points=\"183.4,-405.23 188.67,-396.04 178.82,-399.93 183.4,-405.23\"/>\n",
       "</g>\n",
       "<!-- 140490805384528 -->\n",
       "<g id=\"node3\" class=\"node\">\n",
       "<title>140490805384528</title>\n",
       "<ellipse fill=\"none\" stroke=\"black\" cx=\"36.4\" cy=\"-306\" rx=\"36.29\" ry=\"18\"/>\n",
       "<text text-anchor=\"middle\" x=\"36.4\" y=\"-302.3\" font-family=\"Times,serif\" font-size=\"14.00\">trans_0</text>\n",
       "</g>\n",
       "<!-- 140490804250328&#45;&gt;140490805384528 -->\n",
       "<g id=\"edge2\" class=\"edge\">\n",
       "<title>140490804250328&#45;&gt;140490805384528</title>\n",
       "<path fill=\"none\" stroke=\"black\" d=\"M43.92,-359.7C42.82,-351.98 41.5,-342.71 40.27,-334.11\"/>\n",
       "<polygon fill=\"black\" stroke=\"black\" points=\"43.72,-333.51 38.84,-324.1 36.79,-334.5 43.72,-333.51\"/>\n",
       "</g>\n",
       "<!-- 140490804250888 -->\n",
       "<g id=\"node8\" class=\"node\">\n",
       "<title>140490804250888</title>\n",
       "<polygon fill=\"none\" stroke=\"black\" points=\"73.4,-252 19.4,-252 19.4,-216 73.4,-216 73.4,-252\"/>\n",
       "<text text-anchor=\"middle\" x=\"46.4\" y=\"-230.3\" font-family=\"Times,serif\" font-size=\"14.00\">queue</text>\n",
       "</g>\n",
       "<!-- 140490805384528&#45;&gt;140490804250888 -->\n",
       "<g id=\"edge7\" class=\"edge\">\n",
       "<title>140490805384528&#45;&gt;140490804250888</title>\n",
       "<path fill=\"none\" stroke=\"black\" d=\"M38.87,-287.7C39.97,-279.98 41.29,-270.71 42.52,-262.11\"/>\n",
       "<polygon fill=\"black\" stroke=\"black\" points=\"46,-262.5 43.95,-252.1 39.07,-261.51 46,-262.5\"/>\n",
       "</g>\n",
       "<!-- 140490805340256 -->\n",
       "<g id=\"node5\" class=\"node\">\n",
       "<title>140490805340256</title>\n",
       "<ellipse fill=\"none\" stroke=\"black\" cx=\"127.4\" cy=\"-306\" rx=\"36.29\" ry=\"18\"/>\n",
       "<text text-anchor=\"middle\" x=\"127.4\" y=\"-302.3\" font-family=\"Times,serif\" font-size=\"14.00\">trans_1</text>\n",
       "</g>\n",
       "<!-- 140490805386432&#45;&gt;140490805340256 -->\n",
       "<g id=\"edge4\" class=\"edge\">\n",
       "<title>140490805386432&#45;&gt;140490805340256</title>\n",
       "<path fill=\"none\" stroke=\"black\" d=\"M127.4,-359.7C127.4,-351.98 127.4,-342.71 127.4,-334.11\"/>\n",
       "<polygon fill=\"black\" stroke=\"black\" points=\"130.9,-334.1 127.4,-324.1 123.9,-334.1 130.9,-334.1\"/>\n",
       "</g>\n",
       "<!-- 140490805358376 -->\n",
       "<g id=\"node10\" class=\"node\">\n",
       "<title>140490805358376</title>\n",
       "<polygon fill=\"none\" stroke=\"black\" points=\"154.4,-252 100.4,-252 100.4,-216 154.4,-216 154.4,-252\"/>\n",
       "<text text-anchor=\"middle\" x=\"127.4\" y=\"-230.3\" font-family=\"Times,serif\" font-size=\"14.00\">queue</text>\n",
       "</g>\n",
       "<!-- 140490805340256&#45;&gt;140490805358376 -->\n",
       "<g id=\"edge9\" class=\"edge\">\n",
       "<title>140490805340256&#45;&gt;140490805358376</title>\n",
       "<path fill=\"none\" stroke=\"black\" d=\"M127.4,-287.7C127.4,-279.98 127.4,-270.71 127.4,-262.11\"/>\n",
       "<polygon fill=\"black\" stroke=\"black\" points=\"130.9,-262.1 127.4,-252.1 123.9,-262.1 130.9,-262.1\"/>\n",
       "</g>\n",
       "<!-- 140490805341880 -->\n",
       "<g id=\"node7\" class=\"node\">\n",
       "<title>140490805341880</title>\n",
       "<ellipse fill=\"none\" stroke=\"black\" cx=\"218.4\" cy=\"-306\" rx=\"36.29\" ry=\"18\"/>\n",
       "<text text-anchor=\"middle\" x=\"218.4\" y=\"-302.3\" font-family=\"Times,serif\" font-size=\"14.00\">trans_2</text>\n",
       "</g>\n",
       "<!-- 140490805356136&#45;&gt;140490805341880 -->\n",
       "<g id=\"edge6\" class=\"edge\">\n",
       "<title>140490805356136&#45;&gt;140490805341880</title>\n",
       "<path fill=\"none\" stroke=\"black\" d=\"M210.87,-359.7C211.97,-351.98 213.29,-342.71 214.52,-334.11\"/>\n",
       "<polygon fill=\"black\" stroke=\"black\" points=\"218,-334.5 215.95,-324.1 211.07,-333.51 218,-334.5\"/>\n",
       "</g>\n",
       "<!-- 140490805354904 -->\n",
       "<g id=\"node11\" class=\"node\">\n",
       "<title>140490805354904</title>\n",
       "<polygon fill=\"none\" stroke=\"black\" points=\"235.4,-252 181.4,-252 181.4,-216 235.4,-216 235.4,-252\"/>\n",
       "<text text-anchor=\"middle\" x=\"208.4\" y=\"-230.3\" font-family=\"Times,serif\" font-size=\"14.00\">queue</text>\n",
       "</g>\n",
       "<!-- 140490805341880&#45;&gt;140490805354904 -->\n",
       "<g id=\"edge11\" class=\"edge\">\n",
       "<title>140490805341880&#45;&gt;140490805354904</title>\n",
       "<path fill=\"none\" stroke=\"black\" d=\"M215.92,-287.7C214.82,-279.98 213.5,-270.71 212.27,-262.11\"/>\n",
       "<polygon fill=\"black\" stroke=\"black\" points=\"215.72,-261.51 210.84,-252.1 208.79,-262.5 215.72,-261.51\"/>\n",
       "</g>\n",
       "<!-- 140490805340648 -->\n",
       "<g id=\"node9\" class=\"node\">\n",
       "<title>140490805340648</title>\n",
       "<ellipse fill=\"none\" stroke=\"black\" cx=\"127.4\" cy=\"-162\" rx=\"27\" ry=\"18\"/>\n",
       "<text text-anchor=\"middle\" x=\"127.4\" y=\"-158.3\" font-family=\"Times,serif\" font-size=\"14.00\">agg</text>\n",
       "</g>\n",
       "<!-- 140490804250888&#45;&gt;140490805340648 -->\n",
       "<g id=\"edge8\" class=\"edge\">\n",
       "<title>140490804250888&#45;&gt;140490805340648</title>\n",
       "<path fill=\"none\" stroke=\"black\" d=\"M66.42,-215.7C77.69,-205.96 91.82,-193.74 103.65,-183.52\"/>\n",
       "<polygon fill=\"black\" stroke=\"black\" points=\"106.12,-186.01 111.4,-176.82 101.55,-180.72 106.12,-186.01\"/>\n",
       "</g>\n",
       "<!-- 140490805355632 -->\n",
       "<g id=\"node12\" class=\"node\">\n",
       "<title>140490805355632</title>\n",
       "<polygon fill=\"none\" stroke=\"black\" points=\"154.4,-108 100.4,-108 100.4,-72 154.4,-72 154.4,-108\"/>\n",
       "<text text-anchor=\"middle\" x=\"127.4\" y=\"-86.3\" font-family=\"Times,serif\" font-size=\"14.00\">out_q</text>\n",
       "</g>\n",
       "<!-- 140490805340648&#45;&gt;140490805355632 -->\n",
       "<g id=\"edge13\" class=\"edge\">\n",
       "<title>140490805340648&#45;&gt;140490805355632</title>\n",
       "<path fill=\"none\" stroke=\"black\" d=\"M127.4,-143.7C127.4,-135.98 127.4,-126.71 127.4,-118.11\"/>\n",
       "<polygon fill=\"black\" stroke=\"black\" points=\"130.9,-118.1 127.4,-108.1 123.9,-118.1 130.9,-118.1\"/>\n",
       "</g>\n",
       "<!-- 140490805358376&#45;&gt;140490805340648 -->\n",
       "<g id=\"edge10\" class=\"edge\">\n",
       "<title>140490805358376&#45;&gt;140490805340648</title>\n",
       "<path fill=\"none\" stroke=\"black\" d=\"M127.4,-215.7C127.4,-207.98 127.4,-198.71 127.4,-190.11\"/>\n",
       "<polygon fill=\"black\" stroke=\"black\" points=\"130.9,-190.1 127.4,-180.1 123.9,-190.1 130.9,-190.1\"/>\n",
       "</g>\n",
       "<!-- 140490805354904&#45;&gt;140490805340648 -->\n",
       "<g id=\"edge12\" class=\"edge\">\n",
       "<title>140490805354904&#45;&gt;140490805340648</title>\n",
       "<path fill=\"none\" stroke=\"black\" d=\"M188.37,-215.7C177.11,-205.96 162.97,-193.74 151.15,-183.52\"/>\n",
       "<polygon fill=\"black\" stroke=\"black\" points=\"153.25,-180.72 143.39,-176.82 148.67,-186.01 153.25,-180.72\"/>\n",
       "</g>\n",
       "<!-- 140490805341040 -->\n",
       "<g id=\"node13\" class=\"node\">\n",
       "<title>140490805341040</title>\n",
       "<ellipse fill=\"none\" stroke=\"black\" cx=\"127.4\" cy=\"-18\" rx=\"33.29\" ry=\"18\"/>\n",
       "<text text-anchor=\"middle\" x=\"127.4\" y=\"-14.3\" font-family=\"Times,serif\" font-size=\"14.00\">output</text>\n",
       "</g>\n",
       "<!-- 140490805355632&#45;&gt;140490805341040 -->\n",
       "<g id=\"edge14\" class=\"edge\">\n",
       "<title>140490805355632&#45;&gt;140490805341040</title>\n",
       "<path fill=\"none\" stroke=\"black\" d=\"M127.4,-71.7C127.4,-63.98 127.4,-54.71 127.4,-46.11\"/>\n",
       "<polygon fill=\"black\" stroke=\"black\" points=\"130.9,-46.1 127.4,-36.1 123.9,-46.1 130.9,-46.1\"/>\n",
       "</g>\n",
       "</g>\n",
       "</svg>\n"
      ],
      "text/plain": [
       "<graphviz.dot.Digraph at 0x7fc6907a9c50>"
      ]
     },
     "execution_count": 53,
     "metadata": {},
     "output_type": "execute_result"
    }
   ],
   "source": [
    "from minipipe import Stream\n",
    "\n",
    "n_trans = 3\n",
    "mldr = multiloader(10, n_trans)\n",
    "\n",
    "# initialize standard multiprocess.Queue streams\n",
    "trans_upstreams = [Stream() for _ in range(n_trans)]\n",
    "trans_downstreams = [Stream() for _ in range(n_trans)]\n",
    "output_stream = Stream() \n",
    "\n",
    "pline = Pipeline()\n",
    "pline.add(mldr, downstream=trans_upstreams)\n",
    "\n",
    "for i in range(n_trans):\n",
    "    pline.add(trans, upstream=trans_upstreams[i], \n",
    "                     downstream=trans_downstreams[i])\n",
    "    \n",
    "pline.add(agg, upstream=trans_downstreams, \n",
    "               downstream=output_stream)\n",
    "\n",
    "pline.add(output, upstream=output_stream) \n",
    "pline.build()\n",
    "\n",
    "pline.diagram(True)"
   ]
  },
  {
   "cell_type": "code",
   "execution_count": 47,
   "metadata": {},
   "outputs": [
    {
     "name": "stdout",
     "output_type": "stream",
     "text": [
      "x = 0\n",
      "x = 3\n",
      "x = 12\n",
      "x = 27\n",
      "x = 48\n",
      "x = 75\n",
      "x = 108\n"
     ]
    },
    {
     "name": "stderr",
     "output_type": "stream",
     "text": [
      "2020-03-01 18:31:31,493 - INFO - multiloader - End of stream\n"
     ]
    },
    {
     "name": "stdout",
     "output_type": "stream",
     "text": [
      "x = 147\n",
      "x = 192\n"
     ]
    },
    {
     "name": "stderr",
     "output_type": "stream",
     "text": [
      "2020-03-01 18:31:33,496 - INFO - multiloader - Local termination\n",
      "2020-03-01 18:31:33,494 - INFO - trans_0 - Local termination\n",
      "2020-03-01 18:31:33,496 - INFO - trans_1 - Local termination\n",
      "2020-03-01 18:31:33,496 - INFO - trans_2 - Local termination\n",
      "2020-03-01 18:31:33,499 - INFO - agg - Local termination\n"
     ]
    },
    {
     "name": "stdout",
     "output_type": "stream",
     "text": [
      "x = 243\n"
     ]
    },
    {
     "name": "stderr",
     "output_type": "stream",
     "text": [
      "2020-03-01 18:31:33,999 - INFO - output - Local termination\n"
     ]
    }
   ],
   "source": [
    "pline.run()"
   ]
  },
  {
   "cell_type": "markdown",
   "metadata": {},
   "source": [
    "## Switch Pipe Segments"
   ]
  },
  {
   "cell_type": "markdown",
   "metadata": {},
   "source": [
    "When a pipe segment is passed a Python `None` from upstream it's ignored. This means the pipe will not perform any processing on it. This allows the user to construct switches, which may pass data to one or another downstream. "
   ]
  },
  {
   "cell_type": "code",
   "execution_count": 50,
   "metadata": {},
   "outputs": [
    {
     "data": {
      "image/svg+xml": [
       "<?xml version=\"1.0\" encoding=\"UTF-8\" standalone=\"no\"?>\n",
       "<!DOCTYPE svg PUBLIC \"-//W3C//DTD SVG 1.1//EN\"\n",
       " \"http://www.w3.org/Graphics/SVG/1.1/DTD/svg11.dtd\">\n",
       "<!-- Generated by graphviz version 2.42.3 (20191010.1750)\n",
       " -->\n",
       "<!-- Title: %3 Pages: 1 -->\n",
       "<svg width=\"236pt\" height=\"332pt\"\n",
       " viewBox=\"0.00 0.00 235.64 332.00\" xmlns=\"http://www.w3.org/2000/svg\" xmlns:xlink=\"http://www.w3.org/1999/xlink\">\n",
       "<g id=\"graph0\" class=\"graph\" transform=\"scale(1 1) rotate(0) translate(4 328)\">\n",
       "<title>%3</title>\n",
       "<polygon fill=\"white\" stroke=\"transparent\" points=\"-4,4 -4,-328 231.64,-328 231.64,4 -4,4\"/>\n",
       "<!-- 140490804397504 -->\n",
       "<g id=\"node1\" class=\"node\">\n",
       "<title>140490804397504</title>\n",
       "<ellipse fill=\"none\" stroke=\"black\" cx=\"114.95\" cy=\"-306\" rx=\"32.49\" ry=\"18\"/>\n",
       "<text text-anchor=\"middle\" x=\"114.95\" y=\"-302.3\" font-family=\"Times,serif\" font-size=\"14.00\">loader</text>\n",
       "</g>\n",
       "<!-- 140490804397448 -->\n",
       "<g id=\"node2\" class=\"node\">\n",
       "<title>140490804397448</title>\n",
       "<polygon fill=\"none\" stroke=\"black\" points=\"141.95,-252 87.95,-252 87.95,-216 141.95,-216 141.95,-252\"/>\n",
       "<text text-anchor=\"middle\" x=\"114.95\" y=\"-230.3\" font-family=\"Times,serif\" font-size=\"14.00\">queue</text>\n",
       "</g>\n",
       "<!-- 140490804397504&#45;&gt;140490804397448 -->\n",
       "<g id=\"edge1\" class=\"edge\">\n",
       "<title>140490804397504&#45;&gt;140490804397448</title>\n",
       "<path fill=\"none\" stroke=\"black\" d=\"M114.95,-287.7C114.95,-279.98 114.95,-270.71 114.95,-262.11\"/>\n",
       "<polygon fill=\"black\" stroke=\"black\" points=\"118.45,-262.1 114.95,-252.1 111.45,-262.1 118.45,-262.1\"/>\n",
       "</g>\n",
       "<!-- 140490804398232 -->\n",
       "<g id=\"node3\" class=\"node\">\n",
       "<title>140490804398232</title>\n",
       "<ellipse fill=\"none\" stroke=\"black\" cx=\"114.95\" cy=\"-162\" rx=\"33.6\" ry=\"18\"/>\n",
       "<text text-anchor=\"middle\" x=\"114.95\" y=\"-158.3\" font-family=\"Times,serif\" font-size=\"14.00\">switch</text>\n",
       "</g>\n",
       "<!-- 140490804397448&#45;&gt;140490804398232 -->\n",
       "<g id=\"edge2\" class=\"edge\">\n",
       "<title>140490804397448&#45;&gt;140490804398232</title>\n",
       "<path fill=\"none\" stroke=\"black\" d=\"M114.95,-215.7C114.95,-207.98 114.95,-198.71 114.95,-190.11\"/>\n",
       "<polygon fill=\"black\" stroke=\"black\" points=\"118.45,-190.1 114.95,-180.1 111.45,-190.1 118.45,-190.1\"/>\n",
       "</g>\n",
       "<!-- 140489944942072 -->\n",
       "<g id=\"node4\" class=\"node\">\n",
       "<title>140489944942072</title>\n",
       "<polygon fill=\"none\" stroke=\"black\" points=\"106.95,-108 50.95,-108 50.95,-72 106.95,-72 106.95,-108\"/>\n",
       "<text text-anchor=\"middle\" x=\"78.95\" y=\"-86.3\" font-family=\"Times,serif\" font-size=\"14.00\">even_q</text>\n",
       "</g>\n",
       "<!-- 140490804398232&#45;&gt;140489944942072 -->\n",
       "<g id=\"edge3\" class=\"edge\">\n",
       "<title>140490804398232&#45;&gt;140489944942072</title>\n",
       "<path fill=\"none\" stroke=\"black\" d=\"M106.41,-144.41C102.28,-136.37 97.21,-126.51 92.56,-117.47\"/>\n",
       "<polygon fill=\"black\" stroke=\"black\" points=\"95.6,-115.74 87.92,-108.45 89.38,-118.94 95.6,-115.74\"/>\n",
       "</g>\n",
       "<!-- 140490806298496 -->\n",
       "<g id=\"node6\" class=\"node\">\n",
       "<title>140490806298496</title>\n",
       "<polygon fill=\"none\" stroke=\"black\" points=\"190.95,-108 136.95,-108 136.95,-72 190.95,-72 190.95,-108\"/>\n",
       "<text text-anchor=\"middle\" x=\"163.95\" y=\"-86.3\" font-family=\"Times,serif\" font-size=\"14.00\">odd_q</text>\n",
       "</g>\n",
       "<!-- 140490804398232&#45;&gt;140490806298496 -->\n",
       "<g id=\"edge5\" class=\"edge\">\n",
       "<title>140490804398232&#45;&gt;140490806298496</title>\n",
       "<path fill=\"none\" stroke=\"black\" d=\"M126.31,-144.76C132.2,-136.35 139.52,-125.89 146.14,-116.44\"/>\n",
       "<polygon fill=\"black\" stroke=\"black\" points=\"149.09,-118.32 151.96,-108.12 143.36,-114.31 149.09,-118.32\"/>\n",
       "</g>\n",
       "<!-- 140490804399576 -->\n",
       "<g id=\"node5\" class=\"node\">\n",
       "<title>140490804399576</title>\n",
       "<ellipse fill=\"none\" stroke=\"black\" cx=\"53.95\" cy=\"-18\" rx=\"53.89\" ry=\"18\"/>\n",
       "<text text-anchor=\"middle\" x=\"53.95\" y=\"-14.3\" font-family=\"Times,serif\" font-size=\"14.00\">even_output</text>\n",
       "</g>\n",
       "<!-- 140489944942072&#45;&gt;140490804399576 -->\n",
       "<g id=\"edge4\" class=\"edge\">\n",
       "<title>140489944942072&#45;&gt;140490804399576</title>\n",
       "<path fill=\"none\" stroke=\"black\" d=\"M72.77,-71.7C69.95,-63.81 66.55,-54.3 63.43,-45.55\"/>\n",
       "<polygon fill=\"black\" stroke=\"black\" points=\"66.71,-44.34 60.05,-36.1 60.12,-46.7 66.71,-44.34\"/>\n",
       "</g>\n",
       "<!-- 140490803052784 -->\n",
       "<g id=\"node7\" class=\"node\">\n",
       "<title>140490803052784</title>\n",
       "<ellipse fill=\"none\" stroke=\"black\" cx=\"176.95\" cy=\"-18\" rx=\"50.89\" ry=\"18\"/>\n",
       "<text text-anchor=\"middle\" x=\"176.95\" y=\"-14.3\" font-family=\"Times,serif\" font-size=\"14.00\">odd_output</text>\n",
       "</g>\n",
       "<!-- 140490806298496&#45;&gt;140490803052784 -->\n",
       "<g id=\"edge6\" class=\"edge\">\n",
       "<title>140490806298496&#45;&gt;140490803052784</title>\n",
       "<path fill=\"none\" stroke=\"black\" d=\"M167.16,-71.7C168.59,-63.98 170.31,-54.71 171.91,-46.11\"/>\n",
       "<polygon fill=\"black\" stroke=\"black\" points=\"175.38,-46.58 173.77,-36.1 168.5,-45.3 175.38,-46.58\"/>\n",
       "</g>\n",
       "</g>\n",
       "</svg>\n"
      ],
      "text/plain": [
       "<graphviz.dot.Digraph at 0x7fc6907d8518>"
      ]
     },
     "execution_count": 50,
     "metadata": {},
     "output_type": "execute_result"
    }
   ],
   "source": [
    "@Transform \n",
    "def switch(x):\n",
    "    if x % 2 == 0:\n",
    "        return (x, None)\n",
    "    else:\n",
    "        return (None, x)\n",
    "\n",
    "@Sink\n",
    "def even_output(x):\n",
    "    print(f'{x} is even')\n",
    "    \n",
    "@Sink\n",
    "def odd_output(x):\n",
    "    print(f'{x} is odd')\n",
    "    \n",
    "ldr = loader(10)\n",
    "output_streams = [Stream(name='even_q'), # Streams may be named\n",
    "                  Stream(name='odd_q')]\n",
    "\n",
    "pline = (Pipeline()\n",
    "         .add(ldr)\n",
    "         .add(switch, downstream=output_streams)\n",
    "         .add(even_output, upstream=output_streams[0])\n",
    "         .add(odd_output,  upstream=output_streams[1]) \n",
    "         .build())\n",
    "\n",
    "pline.diagram(True)"
   ]
  },
  {
   "cell_type": "code",
   "execution_count": 51,
   "metadata": {},
   "outputs": [
    {
     "name": "stdout",
     "output_type": "stream",
     "text": [
      "0 is even\n",
      "1 is odd\n",
      "2 is even\n",
      "3 is odd\n",
      "4 is even\n",
      "5 is odd\n",
      "6 is even\n",
      "7 is odd\n",
      "8 is even\n",
      "9 is odd\n"
     ]
    },
    {
     "name": "stderr",
     "output_type": "stream",
     "text": [
      "2020-03-01 18:37:55,016 - INFO - loader - End of stream\n",
      "2020-03-01 18:37:55,021 - INFO - loader - Local termination\n",
      "2020-03-01 18:37:55,023 - INFO - even_output - Local termination\n",
      "2020-03-01 18:37:55,023 - INFO - odd_output - Local termination\n",
      "2020-03-01 18:37:55,023 - INFO - switch - Local termination\n"
     ]
    }
   ],
   "source": [
    "pline.run()"
   ]
  },
  {
   "cell_type": "code",
   "execution_count": null,
   "metadata": {},
   "outputs": [],
   "source": []
  }
 ],
 "metadata": {
  "kernelspec": {
   "display_name": "Python 3",
   "language": "python",
   "name": "python3"
  },
  "language_info": {
   "codemirror_mode": {
    "name": "ipython",
    "version": 3
   },
   "file_extension": ".py",
   "mimetype": "text/x-python",
   "name": "python",
   "nbconvert_exporter": "python",
   "pygments_lexer": "ipython3",
   "version": "3.6.7"
  }
 },
 "nbformat": 4,
 "nbformat_minor": 2
}
