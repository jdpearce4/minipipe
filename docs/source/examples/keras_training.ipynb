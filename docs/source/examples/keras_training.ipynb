{
 "cells": [
  {
   "cell_type": "markdown",
   "metadata": {},
   "source": [
    "# Model Training Pipeline with Keras"
   ]
  },
  {
   "cell_type": "markdown",
   "metadata": {},
   "source": [
    "Here we show how to build pipelines to train a Keras (Tensorflow backend) models with a GPU. "
   ]
  },
  {
   "cell_type": "markdown",
   "metadata": {},
   "source": [
    "## Simple Pipeline"
   ]
  },
  {
   "cell_type": "markdown",
   "metadata": {},
   "source": [
    "First we'll look at a simple pipeline with only two pipe segments, a loader and trainer, useful for training with large data sets that can't fit in memory. We'll first write a generator function that generates fake data. Of course in real applications this function would read data from disk or S3 etc. "
   ]
  },
  {
   "cell_type": "code",
   "execution_count": 1,
   "metadata": {},
   "outputs": [],
   "source": [
    "import numpy as np\n",
    "\n",
    "# Generate fake data\n",
    "# Each iteration emulates a file loaded from disk\n",
    "def gen_fake_data(n_files, rows_per_file, n_cols=32, eps=0.1):\n",
    "    for _ in range(n_files):\n",
    "        \n",
    "        # Generate random features drawn from a standard normal distribution \n",
    "        X = np.random.randn(rows_per_file, n_cols)\n",
    "        \n",
    "        # Generate binary targets as a non-trivial function of features \n",
    "        maximum = X.max(1) - 2.0 # Max of all features less 2 sigma\n",
    "        interactions = (X*np.flip(X,1)).mean(1) # Pairwise interaction of mirror columns  \n",
    "        noise = eps*np.random.randn(rows_per_file) # small amount of random noise \n",
    "        y = (maximum + interactions + noise >= 0).astype(np.int32)\n",
    "        \n",
    "        yield (X, y)"
   ]
  },
  {
   "cell_type": "markdown",
   "metadata": {},
   "source": [
    "Usually we'd want to do some preprocessing on our data to make sure it's properly normalized etc. However, since all the features are sampled from a standard normal we don't have to worry about that here. \n",
    "\n",
    "Now we can define the trainer functor. We'll want to save the model once the pipeline is finished running so we'll use a class functor with a `local_term` method. Typically When using a GPU you will need to define the model on the local/child process. So lets also create a function to build our keras model and run in it `local_init`. "
   ]
  },
  {
   "cell_type": "code",
   "execution_count": 3,
   "metadata": {},
   "outputs": [],
   "source": [
    "import tensorflow as tf\n",
    "from keras.models import Sequential\n",
    "from keras.layers import Dense\n",
    "\n",
    "#suppress tf warnings \n",
    "tf.logging.set_verbosity(tf.logging.ERROR)\n",
    "\n",
    "def build_model(hidden_arch):\n",
    "    \n",
    "    # Ask Tensorflow to use only as much GPU memory as needed\n",
    "    config = tf.ConfigProto()\n",
    "    config.gpu_options.allow_growth=True\n",
    "    tf.Session(config=config)\n",
    "    \n",
    "    # Build model on local process\n",
    "    model = Sequential()\n",
    "    first_layer_output = hidden_arch.pop(0) \n",
    "    model.add(Dense(first_layer_output, input_shape=(32,), activation='relu'))\n",
    "    for output_size in hidden_arch:\n",
    "        model.add(Dense(output_size, activation='relu'))\n",
    "    model.add(Dense(1, activation='sigmoid'))\n",
    "    \n",
    "    # Return complied model\n",
    "    model.compile(optimizer='adam',\n",
    "                  loss='binary_crossentropy',\n",
    "                  metrics=['accuracy'])\n",
    "    \n",
    "    return model\n",
    "\n",
    "# Keras Trainer class\n",
    "# This class will train a model via keras' model.fit \n",
    "class train_keras:\n",
    "    \n",
    "    def __init__(self, hidden_arch, batch_size, save_name):\n",
    "        self.batch_size = batch_size\n",
    "        self.save_name = save_name\n",
    "        self.hidden_arch = hidden_arch\n",
    "        \n",
    "    def local_init(self):\n",
    "        self.model = build_model(self.hidden_arch)\n",
    "        print('Model Summary')\n",
    "        self.model.summary()\n",
    "        print()\n",
    "        \n",
    "    def run(self, data):\n",
    "        X, y = data\n",
    "        self.model.fit(X, y, epochs=1, batch_size=self.batch_size)\n",
    "        \n",
    "    def local_term(self):\n",
    "        print(\"Saving model to {}\".format(self.save_name))\n",
    "        self.model.save(self.save_name)"
   ]
  },
  {
   "cell_type": "markdown",
   "metadata": {},
   "source": [
    "We set the session config and build the model in `local_init` so that the graph is built on the local process and not the main process, since Keras is not thread safe. Additionally we save the model in `local_term` so the model is not lost once the pipe segment and process is terminated. However, `__init__` should be run on the main process before you start the pipeline. "
   ]
  },
  {
   "cell_type": "code",
   "execution_count": 4,
   "metadata": {},
   "outputs": [
    {
     "data": {
      "image/svg+xml": [
       "<?xml version=\"1.0\" encoding=\"UTF-8\" standalone=\"no\"?>\n",
       "<!DOCTYPE svg PUBLIC \"-//W3C//DTD SVG 1.1//EN\"\n",
       " \"http://www.w3.org/Graphics/SVG/1.1/DTD/svg11.dtd\">\n",
       "<!-- Generated by graphviz version 2.40.1 (20161225.0304)\n",
       " -->\n",
       "<!-- Title: %3 Pages: 1 -->\n",
       "<svg width=\"76pt\" height=\"116pt\"\n",
       " viewBox=\"0.00 0.00 75.59 116.00\" xmlns=\"http://www.w3.org/2000/svg\" xmlns:xlink=\"http://www.w3.org/1999/xlink\">\n",
       "<g id=\"graph0\" class=\"graph\" transform=\"scale(1 1) rotate(0) translate(4 112)\">\n",
       "<title>%3</title>\n",
       "<polygon fill=\"#ffffff\" stroke=\"transparent\" points=\"-4,4 -4,-112 71.594,-112 71.594,4 -4,4\"/>\n",
       "<!-- 139785649159136 -->\n",
       "<g id=\"node1\" class=\"node\">\n",
       "<title>139785649159136</title>\n",
       "<ellipse fill=\"none\" stroke=\"#000000\" cx=\"33.797\" cy=\"-90\" rx=\"32.4942\" ry=\"18\"/>\n",
       "<text text-anchor=\"middle\" x=\"33.797\" y=\"-86.3\" font-family=\"Times,serif\" font-size=\"14.00\" fill=\"#000000\">loader</text>\n",
       "</g>\n",
       "<!-- 139785648704928 -->\n",
       "<g id=\"node2\" class=\"node\">\n",
       "<title>139785648704928</title>\n",
       "<ellipse fill=\"none\" stroke=\"#000000\" cx=\"33.797\" cy=\"-18\" rx=\"33.5952\" ry=\"18\"/>\n",
       "<text text-anchor=\"middle\" x=\"33.797\" y=\"-14.3\" font-family=\"Times,serif\" font-size=\"14.00\" fill=\"#000000\">trainer</text>\n",
       "</g>\n",
       "<!-- 139785649159136&#45;&gt;139785648704928 -->\n",
       "<g id=\"edge1\" class=\"edge\">\n",
       "<title>139785649159136&#45;&gt;139785648704928</title>\n",
       "<path fill=\"none\" stroke=\"#000000\" d=\"M33.797,-71.8314C33.797,-64.131 33.797,-54.9743 33.797,-46.4166\"/>\n",
       "<polygon fill=\"#000000\" stroke=\"#000000\" points=\"37.2971,-46.4132 33.797,-36.4133 30.2971,-46.4133 37.2971,-46.4132\"/>\n",
       "</g>\n",
       "</g>\n",
       "</svg>\n"
      ],
      "text/plain": [
       "<graphviz.dot.Digraph at 0x7f2261f67a58>"
      ]
     },
     "execution_count": 4,
     "metadata": {},
     "output_type": "execute_result"
    }
   ],
   "source": [
    "import minipipe as mp\n",
    "\n",
    "# Init generator (optional) and class functors\n",
    "loader = gen_fake_data(n_files=10, rows_per_file=32*1000)\n",
    "\n",
    "trainer = train_keras(hidden_arch = [64, 16], \n",
    "                     batch_size=32, \n",
    "                     save_name='keras_model.hdf5')\n",
    "\n",
    "# Build and display pipeline\n",
    "pline = mp.PipeLine()\n",
    "pline.add(mp.Source(loader, name='loader'))\n",
    "pline.add(mp.Sink(trainer, name='trainer'))\n",
    "pline.build(log_lvl='ERROR') # Suppress stream info\n",
    "pline.diagram()"
   ]
  },
  {
   "cell_type": "code",
   "execution_count": 5,
   "metadata": {
    "scrolled": false
   },
   "outputs": [
    {
     "name": "stdout",
     "output_type": "stream",
     "text": [
      "Model Summary\n",
      "_________________________________________________________________\n",
      "Layer (type)                 Output Shape              Param #   \n",
      "=================================================================\n",
      "dense_1 (Dense)              (None, 64)                2112      \n",
      "_________________________________________________________________\n",
      "dense_2 (Dense)              (None, 16)                1040      \n",
      "_________________________________________________________________\n",
      "dense_3 (Dense)              (None, 1)                 17        \n",
      "=================================================================\n",
      "Total params: 3,169\n",
      "Trainable params: 3,169\n",
      "Non-trainable params: 0\n",
      "_________________________________________________________________\n",
      "\n",
      "Epoch 1/1\n",
      "32000/32000 [==============================] - 5s 160us/step - loss: 0.6404 - acc: 0.6250\n",
      "Epoch 1/1\n",
      "32000/32000 [==============================] - 4s 140us/step - loss: 0.5779 - acc: 0.6926\n",
      "Epoch 1/1\n",
      "32000/32000 [==============================] - 4s 139us/step - loss: 0.5367 - acc: 0.7255\n",
      "Epoch 1/1\n",
      "32000/32000 [==============================] - 5s 142us/step - loss: 0.5221 - acc: 0.7346\n",
      "Epoch 1/1\n",
      "32000/32000 [==============================] - 4s 139us/step - loss: 0.5155 - acc: 0.7386\n",
      "Epoch 1/1\n",
      "32000/32000 [==============================] - 4s 139us/step - loss: 0.5133 - acc: 0.7426\n",
      "Epoch 1/1\n",
      "32000/32000 [==============================] - 4s 139us/step - loss: 0.5103 - acc: 0.7427\n",
      "Epoch 1/1\n",
      "32000/32000 [==============================] - 4s 139us/step - loss: 0.5092 - acc: 0.7459\n",
      "Epoch 1/1\n",
      "32000/32000 [==============================] - 4s 139us/step - loss: 0.5020 - acc: 0.7482\n",
      "Epoch 1/1\n",
      "32000/32000 [==============================] - 4s 140us/step - loss: 0.5083 - acc: 0.7438\n",
      "Saving model to keras_model.hdf5\n"
     ]
    }
   ],
   "source": [
    "#run pipeline\n",
    "pline.run()\n",
    "pline.close()"
   ]
  },
  {
   "cell_type": "markdown",
   "metadata": {},
   "source": [
    "## Evaluation while Training"
   ]
  },
  {
   "cell_type": "markdown",
   "metadata": {},
   "source": [
    "Keras can track some metrics during training, such as log loss and accuracy. However, these metrics are all calulated on the training set. Furthermore, more sophisticated metrics such as AUC cannot be calcualted during training with Keras. In this section we'll show how you can perform evalution of AUC on a test/validaton set in parallel with training. \n",
    "\n",
    "The easiest way to do this is to persist a model at each step in `train_keras` and have a downstream pipe segment load that model and perform evaluation. We'll have to modify our `train_keras` class so it can be used as a transform and define a evalution sink. "
   ]
  },
  {
   "cell_type": "code",
   "execution_count": 6,
   "metadata": {},
   "outputs": [],
   "source": [
    "from keras.models import load_model\n",
    "from sklearn.metrics import roc_auc_score as auc\n",
    "import matplotlib.pyplot as plt\n",
    "import time\n",
    "%matplotlib inline\n",
    "\n",
    "# Keras Trainer class\n",
    "# This class will train a model via keras' model.fit \n",
    "class train_keras:\n",
    "    \n",
    "    def __init__(self, hidden_arch, batch_size, save_name):\n",
    "        self.batch_size = batch_size\n",
    "        self.save_name = save_name\n",
    "        self.hidden_arch = hidden_arch\n",
    "        \n",
    "    def local_init(self):\n",
    "        self.model = build_model(self.hidden_arch)\n",
    "     \n",
    "    def run(self, data):\n",
    "        X, y = data\n",
    "        self.model.fit(X, y, epochs=1, batch_size=self.batch_size, verbose=0) # Suppress progress bar\n",
    "        \n",
    "        # Since eval_keras loads this file it may be locked if eval_keras is reading it\n",
    "        # Wait and try again later \n",
    "        while True:\n",
    "            try:\n",
    "                self.model.save(self.save_name)\n",
    "                break\n",
    "            except OSError:\n",
    "                time.sleep(0.1)\n",
    "                continue\n",
    "        \n",
    "        # The only purpose of this output is to tell eval_keras when to execute\n",
    "        return True\n",
    "\n",
    "class eval_keras:\n",
    "    \n",
    "    def __init__(self, X_test, y_test, batch_size, file_name):\n",
    "        self.batch_size = batch_size\n",
    "        self.X_test = X_test\n",
    "        self.y_test = y_test\n",
    "        self.file_name = file_name\n",
    "        \n",
    "    def local_init(self):\n",
    "        self.aucs = []\n",
    "        self.epoch = 0\n",
    "        \n",
    "        # Ask Tensorflow to use only as much GPU memory as needed\n",
    "        config = tf.ConfigProto()\n",
    "        config.gpu_options.allow_growth=True\n",
    "        tf.Session(config=config)\n",
    "        \n",
    "    def run(self, _):\n",
    "        # Load model from disk and get predictions from test set \n",
    "        self.model = load_model(self.file_name)\n",
    "        p = self.model.predict(X_test, batch_size=self.batch_size, verbose=0) # Suppress progress bar\n",
    "        \n",
    "        # Calculate AUC and print results \n",
    "        test_auc = auc(y_test, p)\n",
    "        print('Epoch {0}: AUC = {1:0.4f}'.format(self.epoch, test_auc))\n",
    "        \n",
    "        # Advance epoch and save test_auc for plotting later\n",
    "        self.epoch += 1\n",
    "        self.aucs.append(test_auc)\n",
    "        \n",
    "    def local_term(self):\n",
    "        # Plots AUC as a function of step after pipeline has completed\n",
    "        plt.plot(range(self.epoch), self.aucs, label='AUC')\n",
    "        plt.xlabel('step')\n",
    "        plt.ylabel('AUC')\n",
    "        plt.show()"
   ]
  },
  {
   "cell_type": "markdown",
   "metadata": {},
   "source": [
    "We've suppressed the Keras training and prediction progress bars with `verbose=0`. Otherwise our print outs can get jumbled with them, makeing the output hard to read. Now we can build a pipeline with our three pipe segments: load, train, eval. "
   ]
  },
  {
   "cell_type": "code",
   "execution_count": 7,
   "metadata": {},
   "outputs": [
    {
     "data": {
      "image/svg+xml": [
       "<?xml version=\"1.0\" encoding=\"UTF-8\" standalone=\"no\"?>\n",
       "<!DOCTYPE svg PUBLIC \"-//W3C//DTD SVG 1.1//EN\"\n",
       " \"http://www.w3.org/Graphics/SVG/1.1/DTD/svg11.dtd\">\n",
       "<!-- Generated by graphviz version 2.40.1 (20161225.0304)\n",
       " -->\n",
       "<!-- Title: %3 Pages: 1 -->\n",
       "<svg width=\"95pt\" height=\"188pt\"\n",
       " viewBox=\"0.00 0.00 95.09 188.00\" xmlns=\"http://www.w3.org/2000/svg\" xmlns:xlink=\"http://www.w3.org/1999/xlink\">\n",
       "<g id=\"graph0\" class=\"graph\" transform=\"scale(1 1) rotate(0) translate(4 184)\">\n",
       "<title>%3</title>\n",
       "<polygon fill=\"#ffffff\" stroke=\"transparent\" points=\"-4,4 -4,-184 91.0923,-184 91.0923,4 -4,4\"/>\n",
       "<!-- 139785648919440 -->\n",
       "<g id=\"node1\" class=\"node\">\n",
       "<title>139785648919440</title>\n",
       "<ellipse fill=\"none\" stroke=\"#000000\" cx=\"43.5461\" cy=\"-162\" rx=\"32.4942\" ry=\"18\"/>\n",
       "<text text-anchor=\"middle\" x=\"43.5461\" y=\"-158.3\" font-family=\"Times,serif\" font-size=\"14.00\" fill=\"#000000\">loader</text>\n",
       "</g>\n",
       "<!-- 139785648920784 -->\n",
       "<g id=\"node2\" class=\"node\">\n",
       "<title>139785648920784</title>\n",
       "<ellipse fill=\"none\" stroke=\"#000000\" cx=\"43.5461\" cy=\"-90\" rx=\"33.5952\" ry=\"18\"/>\n",
       "<text text-anchor=\"middle\" x=\"43.5461\" y=\"-86.3\" font-family=\"Times,serif\" font-size=\"14.00\" fill=\"#000000\">trianer</text>\n",
       "</g>\n",
       "<!-- 139785648919440&#45;&gt;139785648920784 -->\n",
       "<g id=\"edge1\" class=\"edge\">\n",
       "<title>139785648919440&#45;&gt;139785648920784</title>\n",
       "<path fill=\"none\" stroke=\"#000000\" d=\"M43.5461,-143.8314C43.5461,-136.131 43.5461,-126.9743 43.5461,-118.4166\"/>\n",
       "<polygon fill=\"#000000\" stroke=\"#000000\" points=\"47.0462,-118.4132 43.5461,-108.4133 40.0462,-118.4133 47.0462,-118.4132\"/>\n",
       "</g>\n",
       "<!-- 139785648922128 -->\n",
       "<g id=\"node3\" class=\"node\">\n",
       "<title>139785648922128</title>\n",
       "<ellipse fill=\"none\" stroke=\"#000000\" cx=\"43.5461\" cy=\"-18\" rx=\"43.5923\" ry=\"18\"/>\n",
       "<text text-anchor=\"middle\" x=\"43.5461\" y=\"-14.3\" font-family=\"Times,serif\" font-size=\"14.00\" fill=\"#000000\">evaluator</text>\n",
       "</g>\n",
       "<!-- 139785648920784&#45;&gt;139785648922128 -->\n",
       "<g id=\"edge2\" class=\"edge\">\n",
       "<title>139785648920784&#45;&gt;139785648922128</title>\n",
       "<path fill=\"none\" stroke=\"#000000\" d=\"M43.5461,-71.8314C43.5461,-64.131 43.5461,-54.9743 43.5461,-46.4166\"/>\n",
       "<polygon fill=\"#000000\" stroke=\"#000000\" points=\"47.0462,-46.4132 43.5461,-36.4133 40.0462,-46.4133 47.0462,-46.4132\"/>\n",
       "</g>\n",
       "</g>\n",
       "</svg>\n"
      ],
      "text/plain": [
       "<graphviz.dot.Digraph at 0x7f2261f2d080>"
      ]
     },
     "execution_count": 7,
     "metadata": {},
     "output_type": "execute_result"
    }
   ],
   "source": [
    "# Init generator (optional) and class functors\n",
    "loader = gen_fake_data(n_files=10, rows_per_file=32*1000)\n",
    "\n",
    "trainer = train_keras(hidden_arch = [64, 16], \n",
    "                     batch_size=32, \n",
    "                     save_name='keras_model.hdf5')\n",
    "\n",
    "# Generate a test set for the evaluator to use\n",
    "X_test, y_test = next(gen_fake_data(n_files=1, rows_per_file=32*1000))\n",
    "evaluator = eval_keras(X_test, y_test, batch_size=128, file_name = 'keras_model.hdf5')\n",
    "\n",
    "# Build and display pipeline\n",
    "pline2 = mp.PipeLine()\n",
    "pline2.add(mp.Source(loader, name='loader'))\n",
    "pline2.add(mp.Transform(trainer, name='trianer'))\n",
    "pline2.add(mp.Sink(evaluator, name='evaluator'))\n",
    "pline2.build(log_lvl='ERROR') # Suppress stream info\n",
    "pline2.diagram()"
   ]
  },
  {
   "cell_type": "code",
   "execution_count": 8,
   "metadata": {},
   "outputs": [
    {
     "name": "stdout",
     "output_type": "stream",
     "text": [
      "Epoch 0: AUC = 0.7290\n",
      "Epoch 1: AUC = 0.7969\n",
      "Epoch 2: AUC = 0.8134\n",
      "Epoch 3: AUC = 0.8164\n",
      "Epoch 4: AUC = 0.8224\n",
      "Epoch 5: AUC = 0.8242\n",
      "Epoch 6: AUC = 0.8266\n",
      "Epoch 7: AUC = 0.8288\n",
      "Epoch 8: AUC = 0.8341\n",
      "Epoch 9: AUC = 0.8345\n"
     ]
    },
    {
     "data": {
      "image/png": "[encoded data removed]",
      "text/plain": [
       "<Figure size 432x288 with 1 Axes>"
      ]
     },
     "metadata": {
      "needs_background": "light"
     },
     "output_type": "display_data"
    }
   ],
   "source": [
    "#run pipeline\n",
    "pline2.run()\n",
    "pline2.close()"
   ]
  },
  {
   "cell_type": "markdown",
   "metadata": {},
   "source": [
    "## Training with Multiple Models (Single GPU). "
   ]
  },
  {
   "cell_type": "markdown",
   "metadata": {},
   "source": [
    "Now that we have our basic pipeline working we'll probably want to experiment with other architectures. We could try each architecture one-by-one, but if we're working with large data sets this may be prohibitively time consuming. However, with MiniPipe's PipeSystem API we can train and test them all in parallel. We're only restricted by the memory of our GPU and number of physical CPU cores. \n",
    "\n",
    "We'll try training four models in parallel. We'll have to make some modifications to our functors. First `gen_fake_data` needs to return four copies of the data, one for each trainer. Second `eval_keras` needs to be a transform, passing the evaluations results (AUCs) to a pipe segment that accumulates them and plots at termination. "
   ]
  },
  {
   "cell_type": "code",
   "execution_count": 9,
   "metadata": {},
   "outputs": [],
   "source": [
    "from collections import defaultdict\n",
    "\n",
    "def gen_fake_data(n_files, rows_per_file, n_cols=32, eps=0.1):\n",
    "    for _ in range(n_files):\n",
    "        \n",
    "        # Generate random features drawn from a standard normal distribution \n",
    "        X = np.random.randn(rows_per_file, n_cols)\n",
    "        \n",
    "        # Generate binary targets as a non-trivial function of features \n",
    "        maximum = X.max(1) - 2.0 # Max of all features less 2 sigma\n",
    "        interactions = (X*np.flip(X,1)).mean(1) # Pairwise interaction of mirror columns  \n",
    "        noise = eps*np.random.randn(rows_per_file) # small amount of random noise \n",
    "        y = (maximum + interactions + noise >= 0).astype(np.int32)\n",
    "        \n",
    "        # Output 4 copies of the data \n",
    "        yield (X, y), (X, y), (X, y), (X, y)\n",
    "\n",
    "class eval_keras:\n",
    "    \n",
    "    def __init__(self, X_test, y_test, batch_size, file_name):\n",
    "        self.batch_size = batch_size\n",
    "        self.X_test = X_test\n",
    "        self.y_test = y_test\n",
    "        self.file_name = file_name\n",
    "        self.model_name = self.file_name.split('.')[0]\n",
    "        \n",
    "    def local_init(self):\n",
    "        self.epoch = 0\n",
    "        \n",
    "        # Ask Tensorflow to use only as much GPU memory as needed\n",
    "        config = tf.ConfigProto()\n",
    "        config.gpu_options.allow_growth=True\n",
    "        sess = tf.Session(config=config)\n",
    "        \n",
    "    def run(self, _):\n",
    "        \n",
    "        self.model = load_model(self.file_name)\n",
    "        p = self.model.predict(X_test, batch_size=self.batch_size, verbose=0)\n",
    "        \n",
    "        test_auc = auc(y_test, p)\n",
    "        print('[{0}]Epoch {1}: AUC = {2:0.4f}'.format(self.model_name, self.epoch, test_auc))\n",
    "        \n",
    "        self.epoch += 1\n",
    "        return (self.model_name, test_auc)\n",
    "    \n",
    "    \n",
    "class plot_aucs:\n",
    "    \n",
    "    def local_init(self):\n",
    "        self.auc_dict = defaultdict(list)\n",
    "        \n",
    "    def run(self, name_auc_tuple):\n",
    "        name, test_auc = name_auc_tuple\n",
    "        self.auc_dict[name].append(test_auc)\n",
    "    \n",
    "    def local_term(self):\n",
    "        for name, aucs in self.auc_dict.items():\n",
    "            plt.plot(range(len(aucs)), aucs, label=name)\n",
    "        plt.legend()\n",
    "        plt.xlabel('step')\n",
    "        plt.ylabel('AUC')\n",
    "        plt.title('Model Architecture Search')\n",
    "        plt.show()"
   ]
  },
  {
   "cell_type": "markdown",
   "metadata": {},
   "source": [
    "Since this pipeline will have multiple branches we'll need to use the PipeSystem API. In the PipeSystem API we need to define all the Streams explicitly. We'll use a dictionary to store all the model architectures and names. If we want to add more models we can simply expand this dictionary. "
   ]
  },
  {
   "cell_type": "code",
   "execution_count": 10,
   "metadata": {},
   "outputs": [],
   "source": [
    "# Init generator (optional) and class functors\n",
    "loader = gen_fake_data(n_files=10, rows_per_file=32*1000)\n",
    "\n",
    "# Define hidden architectures\n",
    "archs = {'keras-16':[16],\n",
    "         'keras-32-16':[32,16],\n",
    "         'keras-64-32-16':[64,32,16],\n",
    "         'keras-128-64-32-16':[128,64,32,16]}\n",
    "\n",
    "# Define trainer fuctors \n",
    "trainers = [train_keras(hidden_arch=arch, batch_size=32, save_name=name+'.hdf5') \n",
    "            for name, arch in archs.items()]\n",
    "\n",
    "# Generate one set of test data\n",
    "(X_test, y_test), *_ = next(gen_fake_data(n_files=1, rows_per_file=32*1000))\n",
    "\n",
    "# Define evaluator functors with same test set\n",
    "evaluators = [eval_keras(X_test, y_test, batch_size=128, file_name = name+'.hdf5') \n",
    "              for name in archs.keys()]\n",
    "\n",
    "# Define Streams\n",
    "train_streams = [mp.Stream() for _ in range(len(archs))]\n",
    "eval_streams = [mp.Stream() for _ in range(len(archs))]\n",
    "s_plt = mp.Stream()\n",
    "\n",
    "# Define pipe segments (order does not matter)\n",
    "pipes = [mp.Source(loader, downstreams=train_streams, name='Loader')]\n",
    "\n",
    "pipes += [mp.Transform(trnr, upstreams=[s_tr], downstreams=[s_evl], name='Train{}'.format(i))\n",
    "         for i, (trnr, s_tr, s_evl) in enumerate(zip(trainers, train_streams, eval_streams))]\n",
    "\n",
    "pipes += [mp.Transform(evlr, upstreams=[s_evl], downstreams=[s_plt], name='Eval{}'.format(i)) \n",
    "         for i , (evlr, s_evl) in enumerate(zip(evaluators, eval_streams))]\n",
    "\n",
    "pipes += [mp.Sink(plot_aucs(), upstreams=[s_plt], name='Plot')]\n"
   ]
  },
  {
   "cell_type": "markdown",
   "metadata": {},
   "source": [
    "Now when we build the pipeline we just need to supply `PipeSystem` with a list of pipe segments. "
   ]
  },
  {
   "cell_type": "code",
   "execution_count": 11,
   "metadata": {},
   "outputs": [
    {
     "data": {
      "image/svg+xml": [
       "<?xml version=\"1.0\" encoding=\"UTF-8\" standalone=\"no\"?>\n",
       "<!DOCTYPE svg PUBLIC \"-//W3C//DTD SVG 1.1//EN\"\n",
       " \"http://www.w3.org/Graphics/SVG/1.1/DTD/svg11.dtd\">\n",
       "<!-- Generated by graphviz version 2.40.1 (20161225.0304)\n",
       " -->\n",
       "<!-- Title: %3 Pages: 1 -->\n",
       "<svg width=\"338pt\" height=\"260pt\"\n",
       " viewBox=\"0.00 0.00 337.89 260.00\" xmlns=\"http://www.w3.org/2000/svg\" xmlns:xlink=\"http://www.w3.org/1999/xlink\">\n",
       "<g id=\"graph0\" class=\"graph\" transform=\"scale(1 1) rotate(0) translate(4 256)\">\n",
       "<title>%3</title>\n",
       "<polygon fill=\"#ffffff\" stroke=\"transparent\" points=\"-4,4 -4,-256 333.8939,-256 333.8939,4 -4,4\"/>\n",
       "<!-- 139785618930040 -->\n",
       "<g id=\"node1\" class=\"node\">\n",
       "<title>139785618930040</title>\n",
       "<ellipse fill=\"none\" stroke=\"#000000\" cx=\"164.4469\" cy=\"-234\" rx=\"35.9954\" ry=\"18\"/>\n",
       "<text text-anchor=\"middle\" x=\"164.4469\" y=\"-230.3\" font-family=\"Times,serif\" font-size=\"14.00\" fill=\"#000000\">Loader</text>\n",
       "</g>\n",
       "<!-- 139785618931552 -->\n",
       "<g id=\"node2\" class=\"node\">\n",
       "<title>139785618931552</title>\n",
       "<ellipse fill=\"none\" stroke=\"#000000\" cx=\"34.4469\" cy=\"-162\" rx=\"34.394\" ry=\"18\"/>\n",
       "<text text-anchor=\"middle\" x=\"34.4469\" y=\"-158.3\" font-family=\"Times,serif\" font-size=\"14.00\" fill=\"#000000\">Train0</text>\n",
       "</g>\n",
       "<!-- 139785618930040&#45;&gt;139785618931552 -->\n",
       "<g id=\"edge1\" class=\"edge\">\n",
       "<title>139785618930040&#45;&gt;139785618931552</title>\n",
       "<path fill=\"none\" stroke=\"#000000\" d=\"M140.2996,-220.6261C119.7771,-209.2598 90.1175,-192.8329 67.4119,-180.2575\"/>\n",
       "<polygon fill=\"#000000\" stroke=\"#000000\" points=\"68.9087,-177.0856 58.465,-175.3023 65.5171,-183.2091 68.9087,-177.0856\"/>\n",
       "</g>\n",
       "<!-- 139785609724592 -->\n",
       "<g id=\"node3\" class=\"node\">\n",
       "<title>139785609724592</title>\n",
       "<ellipse fill=\"none\" stroke=\"#000000\" cx=\"121.4469\" cy=\"-162\" rx=\"34.394\" ry=\"18\"/>\n",
       "<text text-anchor=\"middle\" x=\"121.4469\" y=\"-158.3\" font-family=\"Times,serif\" font-size=\"14.00\" fill=\"#000000\">Train1</text>\n",
       "</g>\n",
       "<!-- 139785618930040&#45;&gt;139785609724592 -->\n",
       "<g id=\"edge2\" class=\"edge\">\n",
       "<title>139785618930040&#45;&gt;139785609724592</title>\n",
       "<path fill=\"none\" stroke=\"#000000\" d=\"M154.0378,-216.5708C148.9145,-207.9922 142.6341,-197.4762 136.9587,-187.9732\"/>\n",
       "<polygon fill=\"#000000\" stroke=\"#000000\" points=\"139.8926,-186.0595 131.7602,-179.2687 133.8827,-189.6487 139.8926,-186.0595\"/>\n",
       "</g>\n",
       "<!-- 139785609725376 -->\n",
       "<g id=\"node4\" class=\"node\">\n",
       "<title>139785609725376</title>\n",
       "<ellipse fill=\"none\" stroke=\"#000000\" cx=\"208.4469\" cy=\"-162\" rx=\"34.394\" ry=\"18\"/>\n",
       "<text text-anchor=\"middle\" x=\"208.4469\" y=\"-158.3\" font-family=\"Times,serif\" font-size=\"14.00\" fill=\"#000000\">Train2</text>\n",
       "</g>\n",
       "<!-- 139785618930040&#45;&gt;139785609725376 -->\n",
       "<g id=\"edge3\" class=\"edge\">\n",
       "<title>139785618930040&#45;&gt;139785609725376</title>\n",
       "<path fill=\"none\" stroke=\"#000000\" d=\"M175.0981,-216.5708C180.3406,-207.9922 186.767,-197.4762 192.5744,-187.9732\"/>\n",
       "<polygon fill=\"#000000\" stroke=\"#000000\" points=\"195.6658,-189.6266 197.8939,-179.2687 189.6928,-185.9764 195.6658,-189.6266\"/>\n",
       "</g>\n",
       "<!-- 139785609726160 -->\n",
       "<g id=\"node5\" class=\"node\">\n",
       "<title>139785609726160</title>\n",
       "<ellipse fill=\"none\" stroke=\"#000000\" cx=\"295.4469\" cy=\"-162\" rx=\"34.394\" ry=\"18\"/>\n",
       "<text text-anchor=\"middle\" x=\"295.4469\" y=\"-158.3\" font-family=\"Times,serif\" font-size=\"14.00\" fill=\"#000000\">Train3</text>\n",
       "</g>\n",
       "<!-- 139785618930040&#45;&gt;139785609726160 -->\n",
       "<g id=\"edge4\" class=\"edge\">\n",
       "<title>139785618930040&#45;&gt;139785609726160</title>\n",
       "<path fill=\"none\" stroke=\"#000000\" d=\"M188.78,-220.6261C209.5905,-209.1883 239.7244,-192.6261 262.6593,-180.0207\"/>\n",
       "<polygon fill=\"#000000\" stroke=\"#000000\" points=\"264.6081,-182.9434 271.6859,-175.0595 261.2365,-176.8089 264.6081,-182.9434\"/>\n",
       "</g>\n",
       "<!-- 139785609726888 -->\n",
       "<g id=\"node6\" class=\"node\">\n",
       "<title>139785609726888</title>\n",
       "<ellipse fill=\"none\" stroke=\"#000000\" cx=\"40.4469\" cy=\"-90\" rx=\"31.3957\" ry=\"18\"/>\n",
       "<text text-anchor=\"middle\" x=\"40.4469\" y=\"-86.3\" font-family=\"Times,serif\" font-size=\"14.00\" fill=\"#000000\">Eval0</text>\n",
       "</g>\n",
       "<!-- 139785618931552&#45;&gt;139785609726888 -->\n",
       "<g id=\"edge5\" class=\"edge\">\n",
       "<title>139785618931552&#45;&gt;139785609726888</title>\n",
       "<path fill=\"none\" stroke=\"#000000\" d=\"M35.961,-143.8314C36.6027,-136.131 37.3657,-126.9743 38.0789,-118.4166\"/>\n",
       "<polygon fill=\"#000000\" stroke=\"#000000\" points=\"41.5699,-118.6694 38.9125,-108.4133 34.594,-118.088 41.5699,-118.6694\"/>\n",
       "</g>\n",
       "<!-- 139785609727672 -->\n",
       "<g id=\"node7\" class=\"node\">\n",
       "<title>139785609727672</title>\n",
       "<ellipse fill=\"none\" stroke=\"#000000\" cx=\"123.4469\" cy=\"-90\" rx=\"31.3957\" ry=\"18\"/>\n",
       "<text text-anchor=\"middle\" x=\"123.4469\" y=\"-86.3\" font-family=\"Times,serif\" font-size=\"14.00\" fill=\"#000000\">Eval1</text>\n",
       "</g>\n",
       "<!-- 139785609724592&#45;&gt;139785609727672 -->\n",
       "<g id=\"edge6\" class=\"edge\">\n",
       "<title>139785609724592&#45;&gt;139785609727672</title>\n",
       "<path fill=\"none\" stroke=\"#000000\" d=\"M121.9516,-143.8314C122.1655,-136.131 122.4199,-126.9743 122.6576,-118.4166\"/>\n",
       "<polygon fill=\"#000000\" stroke=\"#000000\" points=\"126.1563,-118.5066 122.9355,-108.4133 119.159,-118.3122 126.1563,-118.5066\"/>\n",
       "</g>\n",
       "<!-- 139785609740808 -->\n",
       "<g id=\"node8\" class=\"node\">\n",
       "<title>139785609740808</title>\n",
       "<ellipse fill=\"none\" stroke=\"#000000\" cx=\"206.4469\" cy=\"-90\" rx=\"31.3957\" ry=\"18\"/>\n",
       "<text text-anchor=\"middle\" x=\"206.4469\" y=\"-86.3\" font-family=\"Times,serif\" font-size=\"14.00\" fill=\"#000000\">Eval2</text>\n",
       "</g>\n",
       "<!-- 139785609725376&#45;&gt;139785609740808 -->\n",
       "<g id=\"edge7\" class=\"edge\">\n",
       "<title>139785609725376&#45;&gt;139785609740808</title>\n",
       "<path fill=\"none\" stroke=\"#000000\" d=\"M207.9423,-143.8314C207.7284,-136.131 207.474,-126.9743 207.2363,-118.4166\"/>\n",
       "<polygon fill=\"#000000\" stroke=\"#000000\" points=\"210.7348,-118.3122 206.9584,-108.4133 203.7375,-118.5066 210.7348,-118.3122\"/>\n",
       "</g>\n",
       "<!-- 139785609741592 -->\n",
       "<g id=\"node9\" class=\"node\">\n",
       "<title>139785609741592</title>\n",
       "<ellipse fill=\"none\" stroke=\"#000000\" cx=\"291.4469\" cy=\"-90\" rx=\"31.3957\" ry=\"18\"/>\n",
       "<text text-anchor=\"middle\" x=\"291.4469\" y=\"-86.3\" font-family=\"Times,serif\" font-size=\"14.00\" fill=\"#000000\">Eval3</text>\n",
       "</g>\n",
       "<!-- 139785609726160&#45;&gt;139785609741592 -->\n",
       "<g id=\"edge8\" class=\"edge\">\n",
       "<title>139785609726160&#45;&gt;139785609741592</title>\n",
       "<path fill=\"none\" stroke=\"#000000\" d=\"M294.4376,-143.8314C294.0098,-136.131 293.5011,-126.9743 293.0256,-118.4166\"/>\n",
       "<polygon fill=\"#000000\" stroke=\"#000000\" points=\"296.5193,-118.2037 292.4699,-108.4133 289.5301,-118.592 296.5193,-118.2037\"/>\n",
       "</g>\n",
       "<!-- 139785618930712 -->\n",
       "<g id=\"node10\" class=\"node\">\n",
       "<title>139785618930712</title>\n",
       "<ellipse fill=\"none\" stroke=\"#000000\" cx=\"164.4469\" cy=\"-18\" rx=\"27\" ry=\"18\"/>\n",
       "<text text-anchor=\"middle\" x=\"164.4469\" y=\"-14.3\" font-family=\"Times,serif\" font-size=\"14.00\" fill=\"#000000\">Plot</text>\n",
       "</g>\n",
       "<!-- 139785609726888&#45;&gt;139785618930712 -->\n",
       "<g id=\"edge9\" class=\"edge\">\n",
       "<title>139785609726888&#45;&gt;139785618930712</title>\n",
       "<path fill=\"none\" stroke=\"#000000\" d=\"M62.6157,-77.1278C82.8203,-65.3961 112.8117,-47.9818 135.0181,-35.0877\"/>\n",
       "<polygon fill=\"#000000\" stroke=\"#000000\" points=\"136.817,-38.0905 143.7074,-30.0423 133.302,-32.0369 136.817,-38.0905\"/>\n",
       "</g>\n",
       "<!-- 139785609727672&#45;&gt;139785618930712 -->\n",
       "<g id=\"edge10\" class=\"edge\">\n",
       "<title>139785609727672&#45;&gt;139785618930712</title>\n",
       "<path fill=\"none\" stroke=\"#000000\" d=\"M133.3719,-72.5708C138.2569,-63.9922 144.2452,-53.4762 149.6567,-43.9732\"/>\n",
       "<polygon fill=\"#000000\" stroke=\"#000000\" points=\"152.7064,-45.6905 154.6134,-35.2687 146.6235,-42.2266 152.7064,-45.6905\"/>\n",
       "</g>\n",
       "<!-- 139785609740808&#45;&gt;139785618930712 -->\n",
       "<g id=\"edge11\" class=\"edge\">\n",
       "<title>139785609740808&#45;&gt;139785618930712</title>\n",
       "<path fill=\"none\" stroke=\"#000000\" d=\"M196.4935,-72.937C191.4199,-64.2393 185.1436,-53.4799 179.4939,-43.7948\"/>\n",
       "<polygon fill=\"#000000\" stroke=\"#000000\" points=\"182.3909,-41.8148 174.3289,-34.9405 176.3444,-45.3419 182.3909,-41.8148\"/>\n",
       "</g>\n",
       "<!-- 139785609741592&#45;&gt;139785618930712 -->\n",
       "<g id=\"edge12\" class=\"edge\">\n",
       "<title>139785609741592&#45;&gt;139785618930712</title>\n",
       "<path fill=\"none\" stroke=\"#000000\" d=\"M269.0342,-77.2936C248.2556,-65.5136 217.1907,-47.902 194.3132,-34.932\"/>\n",
       "<polygon fill=\"#000000\" stroke=\"#000000\" points=\"195.7971,-31.75 185.3717,-29.8629 192.3448,-37.8395 195.7971,-31.75\"/>\n",
       "</g>\n",
       "</g>\n",
       "</svg>\n"
      ],
      "text/plain": [
       "<graphviz.dot.Digraph at 0x7f226026a828>"
      ]
     },
     "execution_count": 11,
     "metadata": {},
     "output_type": "execute_result"
    }
   ],
   "source": [
    "# Build and display pipe system\n",
    "psys = mp.PipeSystem(pipes)\n",
    "psys.build() \n",
    "psys.diagram()"
   ]
  },
  {
   "cell_type": "code",
   "execution_count": 12,
   "metadata": {
    "scrolled": false
   },
   "outputs": [
    {
     "name": "stdout",
     "output_type": "stream",
     "text": [
      "[keras-16]Epoch 0: AUC = 0.6793\n",
      "[keras-32-16]Epoch 0: AUC = 0.6928\n",
      "[keras-64-32-16]Epoch 0: AUC = 0.7498\n",
      "[keras-128-64-32-16]Epoch 0: AUC = 0.7930\n",
      "[keras-16]Epoch 1: AUC = 0.7054\n",
      "[keras-32-16]Epoch 1: AUC = 0.7475\n",
      "[keras-64-32-16]Epoch 1: AUC = 0.8080\n",
      "[keras-16]Epoch 2: AUC = 0.7244\n",
      "[keras-128-64-32-16]Epoch 1: AUC = 0.8192\n",
      "[keras-32-16]Epoch 2: AUC = 0.7843\n",
      "[keras-64-32-16]Epoch 2: AUC = 0.8212\n",
      "[keras-16]Epoch 3: AUC = 0.7391\n",
      "[keras-128-64-32-16]Epoch 2: AUC = 0.8272\n",
      "[keras-32-16]Epoch 3: AUC = 0.8035\n",
      "[keras-16]Epoch 4: AUC = 0.7470\n",
      "[keras-64-32-16]Epoch 3: AUC = 0.8234\n",
      "[keras-32-16]Epoch 4: AUC = 0.8136\n",
      "[keras-128-64-32-16]Epoch 3: AUC = 0.8311\n",
      "[keras-16]Epoch 5: AUC = 0.7526\n",
      "[keras-64-32-16]Epoch 4: AUC = 0.8287\n",
      "[keras-32-16]Epoch 5: AUC = 0.8181\n",
      "[keras-16]Epoch 6: AUC = 0.7561\n",
      "[keras-128-64-32-16]Epoch 4: AUC = 0.8388\n",
      "[keras-64-32-16]Epoch 5: AUC = 0.8301\n"
     ]
    },
    {
     "name": "stderr",
     "output_type": "stream",
     "text": [
      "2020-01-05 20:01:00,984 - INFO - Loader - End of stream\n"
     ]
    },
    {
     "name": "stdout",
     "output_type": "stream",
     "text": [
      "[keras-32-16]Epoch 6: AUC = 0.8201\n",
      "[keras-16]Epoch 7: AUC = 0.7563\n",
      "[keras-128-64-32-16]Epoch 5: AUC = 0.8475\n",
      "[keras-64-32-16]Epoch 6: AUC = 0.8338\n",
      "[keras-16]Epoch 8: AUC = 0.7567\n",
      "[keras-32-16]Epoch 7: AUC = 0.8187\n"
     ]
    },
    {
     "name": "stderr",
     "output_type": "stream",
     "text": [
      "2020-01-05 20:01:06,157 - INFO - Train0 - Local termination\n"
     ]
    },
    {
     "name": "stdout",
     "output_type": "stream",
     "text": [
      "[keras-128-64-32-16]Epoch 6: AUC = 0.8554\n",
      "[keras-16]Epoch 9: AUC = 0.7599\n"
     ]
    },
    {
     "name": "stderr",
     "output_type": "stream",
     "text": [
      "2020-01-05 20:01:08,238 - INFO - Eval0 - Local termination\n"
     ]
    },
    {
     "name": "stdout",
     "output_type": "stream",
     "text": [
      "[keras-64-32-16]Epoch 7: AUC = 0.8341\n",
      "[keras-32-16]Epoch 8: AUC = 0.8205\n"
     ]
    },
    {
     "name": "stderr",
     "output_type": "stream",
     "text": [
      "2020-01-05 20:01:10,113 - INFO - Train1 - Local termination\n"
     ]
    },
    {
     "name": "stdout",
     "output_type": "stream",
     "text": [
      "[keras-128-64-32-16]Epoch 7: AUC = 0.8612\n",
      "[keras-32-16]Epoch 9: AUC = 0.8253\n"
     ]
    },
    {
     "name": "stderr",
     "output_type": "stream",
     "text": [
      "2020-01-05 20:01:12,503 - INFO - Eval1 - Local termination\n"
     ]
    },
    {
     "name": "stdout",
     "output_type": "stream",
     "text": [
      "[keras-64-32-16]Epoch 8: AUC = 0.8360\n"
     ]
    },
    {
     "name": "stderr",
     "output_type": "stream",
     "text": [
      "2020-01-05 20:01:14,155 - INFO - Train2 - Local termination\n"
     ]
    },
    {
     "name": "stdout",
     "output_type": "stream",
     "text": [
      "[keras-64-32-16]Epoch 9: AUC = 0.8445\n"
     ]
    },
    {
     "name": "stderr",
     "output_type": "stream",
     "text": [
      "2020-01-05 20:01:16,512 - INFO - Eval2 - Local termination\n"
     ]
    },
    {
     "name": "stdout",
     "output_type": "stream",
     "text": [
      "[keras-128-64-32-16]Epoch 8: AUC = 0.8671\n"
     ]
    },
    {
     "name": "stderr",
     "output_type": "stream",
     "text": [
      "2020-01-05 20:01:19,034 - INFO - Train3 - Local termination\n",
      "2020-01-05 20:01:19,034 - INFO - Loader - Local termination\n"
     ]
    },
    {
     "name": "stdout",
     "output_type": "stream",
     "text": [
      "[keras-128-64-32-16]Epoch 9: AUC = 0.8822\n"
     ]
    },
    {
     "name": "stderr",
     "output_type": "stream",
     "text": [
      "2020-01-05 20:01:21,564 - INFO - Eval3 - Local termination\n",
      "2020-01-05 20:01:21,565 - INFO - Plot - Local termination\n"
     ]
    },
    {
     "data": {
      "image/png": "[encoded data removed]",
      "text/plain": [
       "<Figure size 432x288 with 1 Axes>"
      ]
     },
     "metadata": {
      "needs_background": "light"
     },
     "output_type": "display_data"
    }
   ],
   "source": [
    "psys.run()\n",
    "psys.close()"
   ]
  },
  {
   "cell_type": "markdown",
   "metadata": {},
   "source": [
    "## Time Comparisons"
   ]
  },
  {
   "cell_type": "markdown",
   "metadata": {},
   "source": [
    "Now lets do a time comparison between our three different pipelines. Pipelines need to be reset before they can be run again. "
   ]
  },
  {
   "cell_type": "code",
   "execution_count": 17,
   "metadata": {},
   "outputs": [],
   "source": [
    "pline.reset()\n",
    "pline2.reset()\n",
    "psys.reset()"
   ]
  },
  {
   "cell_type": "markdown",
   "metadata": {},
   "source": [
    "We'll use Jupyter's %%timeit magic cell to time a single iteration of each. "
   ]
  },
  {
   "cell_type": "code",
   "execution_count": 18,
   "metadata": {},
   "outputs": [
    {
     "name": "stdout",
     "output_type": "stream",
     "text": [
      "Model Summary\n",
      "_________________________________________________________________\n",
      "Layer (type)                 Output Shape              Param #   \n",
      "=================================================================\n",
      "dense_1 (Dense)              (None, 64)                2112      \n",
      "_________________________________________________________________\n",
      "dense_2 (Dense)              (None, 16)                1040      \n",
      "_________________________________________________________________\n",
      "dense_3 (Dense)              (None, 1)                 17        \n",
      "=================================================================\n",
      "Total params: 3,169\n",
      "Trainable params: 3,169\n",
      "Non-trainable params: 0\n",
      "_________________________________________________________________\n",
      "\n",
      "Epoch 1/1\n",
      "32000/32000 [==============================] - 5s 169us/step - loss: 0.6436 - acc: 0.6197\n",
      "Epoch 1/1\n",
      "32000/32000 [==============================] - 5s 142us/step - loss: 0.5764 - acc: 0.6952\n",
      "Epoch 1/1\n",
      "32000/32000 [==============================] - 5s 144us/step - loss: 0.5332 - acc: 0.7270\n",
      "Epoch 1/1\n",
      "32000/32000 [==============================] - 5s 145us/step - loss: 0.5192 - acc: 0.7393\n",
      "Epoch 1/1\n",
      "32000/32000 [==============================] - 5s 143us/step - loss: 0.5140 - acc: 0.7431\n",
      "Epoch 1/1\n",
      "32000/32000 [==============================] - 5s 144us/step - loss: 0.5138 - acc: 0.7402\n",
      "Epoch 1/1\n"
     ]
    },
    {
     "name": "stderr",
     "output_type": "stream",
     "text": [
      "2020-01-05 20:11:18,448 - INFO - loader - End of stream\n"
     ]
    },
    {
     "name": "stdout",
     "output_type": "stream",
     "text": [
      "32000/32000 [==============================] - 5s 145us/step - loss: 0.5075 - acc: 0.7452\n",
      "Epoch 1/1\n"
     ]
    },
    {
     "name": "stderr",
     "output_type": "stream",
     "text": [
      "2020-01-05 20:11:23,102 - INFO - loader - Local termination\n"
     ]
    },
    {
     "name": "stdout",
     "output_type": "stream",
     "text": [
      "32000/32000 [==============================] - 5s 143us/step - loss: 0.5086 - acc: 0.7430\n",
      "Epoch 1/1\n",
      "32000/32000 [==============================] - 5s 144us/step - loss: 0.4971 - acc: 0.7523\n",
      "Epoch 1/1\n",
      "32000/32000 [==============================] - 5s 145us/step - loss: 0.5003 - acc: 0.7504\n"
     ]
    },
    {
     "name": "stderr",
     "output_type": "stream",
     "text": [
      "2020-01-05 20:11:36,937 - INFO - trainer - Local termination\n"
     ]
    },
    {
     "name": "stdout",
     "output_type": "stream",
     "text": [
      "Saving model to keras_model.hdf5\n",
      "47.9 s ± 0 ns per loop (mean ± std. dev. of 1 run, 1 loop each)\n"
     ]
    }
   ],
   "source": [
    "%%timeit -n 1 -r 1\n",
    "pline.run()\n",
    "pline.close()"
   ]
  },
  {
   "cell_type": "markdown",
   "metadata": {},
   "source": [
    "The simple pipeline takes 48s on my machine. We'll use that as our baseline.  "
   ]
  },
  {
   "cell_type": "code",
   "execution_count": 19,
   "metadata": {},
   "outputs": [
    {
     "name": "stdout",
     "output_type": "stream",
     "text": [
      "Epoch 0: AUC = 0.7261\n",
      "Epoch 1: AUC = 0.7941\n",
      "Epoch 2: AUC = 0.8129\n",
      "Epoch 3: AUC = 0.8190\n",
      "Epoch 4: AUC = 0.8226\n"
     ]
    },
    {
     "name": "stderr",
     "output_type": "stream",
     "text": [
      "2020-01-05 20:12:15,862 - INFO - loader - End of stream\n"
     ]
    },
    {
     "name": "stdout",
     "output_type": "stream",
     "text": [
      "Epoch 5: AUC = 0.8255\n"
     ]
    },
    {
     "name": "stderr",
     "output_type": "stream",
     "text": [
      "2020-01-05 20:12:20,015 - INFO - loader - Local termination\n"
     ]
    },
    {
     "name": "stdout",
     "output_type": "stream",
     "text": [
      "Epoch 6: AUC = 0.8285\n",
      "Epoch 7: AUC = 0.8282\n",
      "Epoch 8: AUC = 0.8278\n"
     ]
    },
    {
     "name": "stderr",
     "output_type": "stream",
     "text": [
      "2020-01-05 20:12:32,371 - INFO - trianer - Local termination\n"
     ]
    },
    {
     "name": "stdout",
     "output_type": "stream",
     "text": [
      "Epoch 9: AUC = 0.8368\n"
     ]
    },
    {
     "name": "stderr",
     "output_type": "stream",
     "text": [
      "2020-01-05 20:12:34,041 - INFO - evaluator - Local termination\n"
     ]
    },
    {
     "data": {
      "image/png": "[encoded data removed]",
      "text/plain": [
       "<Figure size 432x288 with 1 Axes>"
      ]
     },
     "metadata": {
      "needs_background": "light"
     },
     "output_type": "display_data"
    },
    {
     "name": "stdout",
     "output_type": "stream",
     "text": [
      "45.5 s ± 0 ns per loop (mean ± std. dev. of 1 run, 1 loop each)\n"
     ]
    }
   ],
   "source": [
    "%%timeit -n 1 -r 1\n",
    "pline2.run()\n",
    "pline2.close()"
   ]
  },
  {
   "cell_type": "markdown",
   "metadata": {},
   "source": [
    "Wow! The pipeline with test set evaluation roughly the same amount of time. This is because prediction and AUC calcualtion all happen durning training. As long as these other task take less time than training we shouldn't expect any slowdown. "
   ]
  },
  {
   "cell_type": "code",
   "execution_count": 20,
   "metadata": {},
   "outputs": [
    {
     "name": "stdout",
     "output_type": "stream",
     "text": [
      "[keras-16]Epoch 0: AUC = 0.6793\n",
      "[keras-32-16]Epoch 0: AUC = 0.6928\n",
      "[keras-64-32-16]Epoch 0: AUC = 0.7498\n",
      "[keras-128-64-32-16]Epoch 0: AUC = 0.7930\n",
      "[keras-16]Epoch 1: AUC = 0.7054\n",
      "[keras-32-16]Epoch 1: AUC = 0.7476\n",
      "[keras-64-32-16]Epoch 1: AUC = 0.8080\n",
      "[keras-16]Epoch 2: AUC = 0.7244\n",
      "[keras-128-64-32-16]Epoch 1: AUC = 0.8192\n",
      "[keras-32-16]Epoch 2: AUC = 0.7845\n",
      "[keras-64-32-16]Epoch 2: AUC = 0.8212\n",
      "[keras-16]Epoch 3: AUC = 0.7391\n",
      "[keras-128-64-32-16]Epoch 2: AUC = 0.8272\n",
      "[keras-32-16]Epoch 3: AUC = 0.8035\n",
      "[keras-16]Epoch 4: AUC = 0.7470\n",
      "[keras-64-32-16]Epoch 3: AUC = 0.8234\n",
      "[keras-32-16]Epoch 4: AUC = 0.8134\n",
      "[keras-128-64-32-16]Epoch 3: AUC = 0.8311\n",
      "[keras-16]Epoch 5: AUC = 0.7526\n",
      "[keras-64-32-16]Epoch 4: AUC = 0.8287\n",
      "[keras-32-16]Epoch 5: AUC = 0.8179\n",
      "[keras-16]Epoch 6: AUC = 0.7561\n",
      "[keras-128-64-32-16]Epoch 4: AUC = 0.8388\n",
      "[keras-64-32-16]Epoch 5: AUC = 0.8301\n"
     ]
    },
    {
     "name": "stderr",
     "output_type": "stream",
     "text": [
      "2020-01-05 20:13:51,022 - INFO - Loader - End of stream\n"
     ]
    },
    {
     "name": "stdout",
     "output_type": "stream",
     "text": [
      "[keras-32-16]Epoch 6: AUC = 0.8203\n",
      "[keras-16]Epoch 7: AUC = 0.7563\n",
      "[keras-128-64-32-16]Epoch 5: AUC = 0.8475\n",
      "[keras-64-32-16]Epoch 6: AUC = 0.8338\n",
      "[keras-16]Epoch 8: AUC = 0.7567\n",
      "[keras-32-16]Epoch 7: AUC = 0.8186\n"
     ]
    },
    {
     "name": "stderr",
     "output_type": "stream",
     "text": [
      "2020-01-05 20:13:56,442 - INFO - Train0 - Local termination\n"
     ]
    },
    {
     "name": "stdout",
     "output_type": "stream",
     "text": [
      "[keras-128-64-32-16]Epoch 6: AUC = 0.8554\n",
      "[keras-16]Epoch 9: AUC = 0.7599\n"
     ]
    },
    {
     "name": "stderr",
     "output_type": "stream",
     "text": [
      "2020-01-05 20:13:58,527 - INFO - Eval0 - Local termination\n"
     ]
    },
    {
     "name": "stdout",
     "output_type": "stream",
     "text": [
      "[keras-64-32-16]Epoch 7: AUC = 0.8341\n",
      "[keras-32-16]Epoch 8: AUC = 0.8204\n"
     ]
    },
    {
     "name": "stderr",
     "output_type": "stream",
     "text": [
      "2020-01-05 20:14:00,351 - INFO - Train1 - Local termination\n"
     ]
    },
    {
     "name": "stdout",
     "output_type": "stream",
     "text": [
      "[keras-128-64-32-16]Epoch 7: AUC = 0.8612\n",
      "[keras-32-16]Epoch 9: AUC = 0.8253\n"
     ]
    },
    {
     "name": "stderr",
     "output_type": "stream",
     "text": [
      "2020-01-05 20:14:02,569 - INFO - Eval1 - Local termination\n"
     ]
    },
    {
     "name": "stdout",
     "output_type": "stream",
     "text": [
      "[keras-64-32-16]Epoch 8: AUC = 0.8360\n"
     ]
    },
    {
     "name": "stderr",
     "output_type": "stream",
     "text": [
      "2020-01-05 20:14:04,427 - INFO - Train2 - Local termination\n"
     ]
    },
    {
     "name": "stdout",
     "output_type": "stream",
     "text": [
      "[keras-128-64-32-16]Epoch 8: AUC = 0.8671\n",
      "[keras-64-32-16]Epoch 9: AUC = 0.8445\n"
     ]
    },
    {
     "name": "stderr",
     "output_type": "stream",
     "text": [
      "2020-01-05 20:14:06,983 - INFO - Eval2 - Local termination\n",
      "2020-01-05 20:14:08,950 - INFO - Loader - Local termination\n",
      "2020-01-05 20:14:08,950 - INFO - Train3 - Local termination\n"
     ]
    },
    {
     "name": "stdout",
     "output_type": "stream",
     "text": [
      "[keras-128-64-32-16]Epoch 9: AUC = 0.8822\n"
     ]
    },
    {
     "name": "stderr",
     "output_type": "stream",
     "text": [
      "2020-01-05 20:14:11,234 - INFO - Eval3 - Local termination\n",
      "2020-01-05 20:14:11,236 - INFO - Plot - Local termination\n"
     ]
    },
    {
     "data": {
      "image/png": "[encoded data removed]",
      "text/plain": [
       "<Figure size 432x288 with 1 Axes>"
      ]
     },
     "metadata": {
      "needs_background": "light"
     },
     "output_type": "display_data"
    },
    {
     "name": "stdout",
     "output_type": "stream",
     "text": [
      "49.1 s ± 0 ns per loop (mean ± std. dev. of 1 run, 1 loop each)\n"
     ]
    }
   ],
   "source": [
    "%%timeit -n 1 -r 1\n",
    "psys.run()\n",
    "psys.close()"
   ]
  },
  {
   "cell_type": "markdown",
   "metadata": {},
   "source": [
    "Training four models only takes an additional few seconds! In fact this additional time can be contributed to the larger network architecture (keras-128-64-32-16). This model has more weights and thus takes longer to train. The pipeline is only has fast as it's slowest component, so it has to wait untill all models finish training before it terminates. We can see from the logs that keras-128-64-32-16 (Train3/Eval3)is indeed that last to terminate. "
   ]
  }
 ],
 "metadata": {
  "kernelspec": {
   "display_name": "py36",
   "language": "python",
   "name": "py36"
  },
  "language_info": {
   "codemirror_mode": {
    "name": "ipython",
    "version": 3
   },
   "file_extension": ".py",
   "mimetype": "text/x-python",
   "name": "python",
   "nbconvert_exporter": "python",
   "pygments_lexer": "ipython3",
   "version": "3.6.9"
  }
 },
 "nbformat": 4,
 "nbformat_minor": 2
}
