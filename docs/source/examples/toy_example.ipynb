{
 "cells": [
  {
   "cell_type": "markdown",
   "metadata": {},
   "source": [
    "# Introduction to PipeLine"
   ]
  },
  {
   "cell_type": "markdown",
   "metadata": {},
   "source": [
    "The easiest way to understand MiniPipe is to dive into some examples. So let's first look at a simple toy example of a mini-batch pipeline. This example is just to demonstrate the basic functionality of MiniPipe. We'll get to some real-world applications later on. \n",
    "\n",
    "Most machine learning pipeline will have at least three stages: load, transform and train. In this example we'll simulate these three stages with these simple functions"
   ]
  },
  {
   "cell_type": "code",
   "execution_count": 1,
   "metadata": {},
   "outputs": [],
   "source": [
    "import time\n",
    "\n",
    "# 'loads' data\n",
    "def loader(n=10):\n",
    "    for i in range(n):\n",
    "        time.sleep(0.5)\n",
    "        yield i\n",
    "\n",
    "# performs square transformation to data        \n",
    "def transform(x):\n",
    "    time.sleep(1)\n",
    "    return x**2\n",
    "\n",
    "# 'saves' data\n",
    "def save(x):\n",
    "    time.sleep(0.5)\n",
    "    print('x = {}'.format(x))"
   ]
  },
  {
   "cell_type": "markdown",
   "metadata": {},
   "source": [
    "The first function, `loader`, returns a python generator, which we'll use to generate our \"data\". I've added a delay of 0.5s into the generator to simulate loading time. The next function `transform` is a simple transformation on our data (squares the input), which takes twice as long (1s) as loading. Finally `save` simply prints our data to stdout, also taking 0.5s to simulate saving time."
   ]
  },
  {
   "cell_type": "markdown",
   "metadata": {},
   "source": [
    "Of course in this simple example we can fit all the “data” into memory, but lets pretend like that's not the case. We need to load one chunk of data at a time, where each data chunk is returned with the `next(loader())` method. "
   ]
  },
  {
   "cell_type": "markdown",
   "metadata": {},
   "source": [
    "## Serial Pipeline (without MiniPipe)"
   ]
  },
  {
   "cell_type": "markdown",
   "metadata": {},
   "source": [
    "Lets setup a serial pipeline without MiniPipe, where we get the data, transform it and then save it one batch at a time. We'll use jupyter's %%timeit magic cell to time execution time. "
   ]
  },
  {
   "cell_type": "code",
   "execution_count": 2,
   "metadata": {},
   "outputs": [
    {
     "name": "stdout",
     "output_type": "stream",
     "text": [
      "x = 0\n",
      "x = 1\n",
      "x = 4\n",
      "x = 9\n",
      "x = 16\n",
      "x = 25\n",
      "x = 36\n",
      "x = 49\n",
      "x = 64\n",
      "x = 81\n",
      "20 s ± 0 ns per loop (mean ± std. dev. of 1 run, 1 loop each)\n"
     ]
    }
   ],
   "source": [
    "%%timeit -n 1 -r 1\n",
    "\n",
    "# initialize loader\n",
    "ldr = loader()\n",
    "\n",
    "# run pipeline\n",
    "for data in ldr: \n",
    "    x = transform(data)\n",
    "    save(x)"
   ]
  },
  {
   "cell_type": "markdown",
   "metadata": {},
   "source": [
    "The for loop calls the `next(lrd)` method 10 times sequentially, each time applying `transform` followed by `save`. As expected the execution time takes about 20s since each iteration takes a total of 2s (0.5s + 1s + 0.5s) and it's repeated 10 times."
   ]
  },
  {
   "cell_type": "markdown",
   "metadata": {},
   "source": [
    "## MiniPipe: Pipeline Parallel"
   ]
  },
  {
   "cell_type": "markdown",
   "metadata": {},
   "source": [
    "Now lets see what the same pipeline looks like in MiniPipe."
   ]
  },
  {
   "cell_type": "code",
   "execution_count": 3,
   "metadata": {},
   "outputs": [],
   "source": [
    "import minipipe as mp\n",
    "\n",
    "# initialize pipeline\n",
    "pline = mp.PipeLine()\n",
    "\n",
    "# add pipe segments\n",
    "pline.add(mp.Source(loader, name='loader')) # loader is not initialized\n",
    "pline.add(mp.Transform(transform))\n",
    "pline.add(mp.Sink(save, name='save'))\n",
    "\n",
    "# build pipeline\n",
    "pline.build()"
   ]
  },
  {
   "cell_type": "markdown",
   "metadata": {},
   "source": [
    "If you've used the Keras Sequential API this will look familiar to you. MiniPipe has three basic types of pipe segments: Sources, Transforms and Sinks. Each has one requires an argument called functor. For Sources functors must always be an uninitialized generator, while for Sinks and Transforms functors can be either a function or a class (with a `run` method). There's also an additional pipe segment called a Regulator which accepts coroutines, which will be discuss later. \n",
    "\n",
    "Sources pass data downstream, Sinks accept data from upstream and Transforms do both. In the PipeLine API pipe segments are connected by adding them to an initialized `PipeLine` and then calling the `PipeLine.build` method. \n",
    "\n",
    "We can inspect the pipeline graph with the `PipeLine.diagram` method (requires graphviz) to make sure it looks as expected. "
   ]
  },
  {
   "cell_type": "code",
   "execution_count": 4,
   "metadata": {},
   "outputs": [
    {
     "data": {
      "image/svg+xml": [
       "<?xml version=\"1.0\" encoding=\"UTF-8\" standalone=\"no\"?>\n",
       "<!DOCTYPE svg PUBLIC \"-//W3C//DTD SVG 1.1//EN\"\n",
       " \"http://www.w3.org/Graphics/SVG/1.1/DTD/svg11.dtd\">\n",
       "<!-- Generated by graphviz version 2.40.1 (20161225.0304)\n",
       " -->\n",
       "<!-- Title: %3 Pages: 1 -->\n",
       "<svg width=\"104pt\" height=\"188pt\"\n",
       " viewBox=\"0.00 0.00 104.19 188.00\" xmlns=\"http://www.w3.org/2000/svg\" xmlns:xlink=\"http://www.w3.org/1999/xlink\">\n",
       "<g id=\"graph0\" class=\"graph\" transform=\"scale(1 1) rotate(0) translate(4 184)\">\n",
       "<title>%3</title>\n",
       "<polygon fill=\"#ffffff\" stroke=\"transparent\" points=\"-4,4 -4,-184 100.1915,-184 100.1915,4 -4,4\"/>\n",
       "<!-- 140077076716624 -->\n",
       "<g id=\"node1\" class=\"node\">\n",
       "<title>140077076716624</title>\n",
       "<ellipse fill=\"none\" stroke=\"#000000\" cx=\"48.0957\" cy=\"-162\" rx=\"32.4942\" ry=\"18\"/>\n",
       "<text text-anchor=\"middle\" x=\"48.0957\" y=\"-158.3\" font-family=\"Times,serif\" font-size=\"14.00\" fill=\"#000000\">loader</text>\n",
       "</g>\n",
       "<!-- 140077076750008 -->\n",
       "<g id=\"node2\" class=\"node\">\n",
       "<title>140077076750008</title>\n",
       "<ellipse fill=\"none\" stroke=\"#000000\" cx=\"48.0957\" cy=\"-90\" rx=\"48.1917\" ry=\"18\"/>\n",
       "<text text-anchor=\"middle\" x=\"48.0957\" y=\"-86.3\" font-family=\"Times,serif\" font-size=\"14.00\" fill=\"#000000\">Transform</text>\n",
       "</g>\n",
       "<!-- 140077076716624&#45;&gt;140077076750008 -->\n",
       "<g id=\"edge1\" class=\"edge\">\n",
       "<title>140077076716624&#45;&gt;140077076750008</title>\n",
       "<path fill=\"none\" stroke=\"#000000\" d=\"M48.0957,-143.8314C48.0957,-136.131 48.0957,-126.9743 48.0957,-118.4166\"/>\n",
       "<polygon fill=\"#000000\" stroke=\"#000000\" points=\"51.5958,-118.4132 48.0957,-108.4133 44.5958,-118.4133 51.5958,-118.4132\"/>\n",
       "</g>\n",
       "<!-- 140077076751416 -->\n",
       "<g id=\"node3\" class=\"node\">\n",
       "<title>140077076751416</title>\n",
       "<ellipse fill=\"none\" stroke=\"#000000\" cx=\"48.0957\" cy=\"-18\" rx=\"27\" ry=\"18\"/>\n",
       "<text text-anchor=\"middle\" x=\"48.0957\" y=\"-14.3\" font-family=\"Times,serif\" font-size=\"14.00\" fill=\"#000000\">save</text>\n",
       "</g>\n",
       "<!-- 140077076750008&#45;&gt;140077076751416 -->\n",
       "<g id=\"edge2\" class=\"edge\">\n",
       "<title>140077076750008&#45;&gt;140077076751416</title>\n",
       "<path fill=\"none\" stroke=\"#000000\" d=\"M48.0957,-71.8314C48.0957,-64.131 48.0957,-54.9743 48.0957,-46.4166\"/>\n",
       "<polygon fill=\"#000000\" stroke=\"#000000\" points=\"51.5958,-46.4132 48.0957,-36.4133 44.5958,-46.4133 51.5958,-46.4132\"/>\n",
       "</g>\n",
       "</g>\n",
       "</svg>\n"
      ],
      "text/plain": [
       "<graphviz.dot.Digraph at 0x7f663cf5dcc0>"
      ]
     },
     "execution_count": 4,
     "metadata": {},
     "output_type": "execute_result"
    }
   ],
   "source": [
    "pline.diagram()"
   ]
  },
  {
   "cell_type": "markdown",
   "metadata": {},
   "source": [
    "Looks good. Now we can run the pipeline; let's again time it as before."
   ]
  },
  {
   "cell_type": "code",
   "execution_count": 5,
   "metadata": {},
   "outputs": [
    {
     "name": "stdout",
     "output_type": "stream",
     "text": [
      "x = 0\n",
      "x = 1\n",
      "x = 4\n",
      "x = 9\n",
      "x = 16\n",
      "x = 25\n",
      "x = 36\n"
     ]
    },
    {
     "name": "stderr",
     "output_type": "stream",
     "text": [
      "2019-12-13 18:40:23,206 - INFO - loader - End of stream\n"
     ]
    },
    {
     "name": "stdout",
     "output_type": "stream",
     "text": [
      "x = 49\n"
     ]
    },
    {
     "name": "stderr",
     "output_type": "stream",
     "text": [
      "2019-12-13 18:40:24,208 - INFO - loader - Local termination\n"
     ]
    },
    {
     "name": "stdout",
     "output_type": "stream",
     "text": [
      "x = 64\n"
     ]
    },
    {
     "name": "stderr",
     "output_type": "stream",
     "text": [
      "2019-12-13 18:40:25,209 - INFO - Transform - Local termination\n"
     ]
    },
    {
     "name": "stdout",
     "output_type": "stream",
     "text": [
      "x = 81\n"
     ]
    },
    {
     "name": "stderr",
     "output_type": "stream",
     "text": [
      "2019-12-13 18:40:25,712 - INFO - save - Local termination\n"
     ]
    },
    {
     "name": "stdout",
     "output_type": "stream",
     "text": [
      "11 s ± 0 ns per loop (mean ± std. dev. of 1 run, 1 loop each)\n"
     ]
    }
   ],
   "source": [
    "%%timeit -n 1 -r 1\n",
    "\n",
    "pline.run()\n",
    "pline.close()"
   ]
  },
  {
   "cell_type": "markdown",
   "metadata": {},
   "source": [
    "We see from the logging (which can be set in the `PipeLine.build` method) where each pipe segment shutdown. When the end of stream was reached Source shutdown, followed by Transform and Sink. \n",
    "\n",
    "The execution time is now 11s instead of 20s. That's because each pipe segments executes on it's own thread/process allowing for parallel execution. Of course dependent nodes still have to wait for data to be passed downstream, but once data is passed the node can start on the next batch without waiting for the full pipeline to be executed. Thus we expect the total time to be 0.5s (initial load) + 10 x (1s) + 0.5s (final save) = 11s. "
   ]
  },
  {
   "cell_type": "markdown",
   "metadata": {},
   "source": [
    "By default MiniPipe will place each pipe segment on its own process. Each process runs independently in an asynchronous fashion. MiniPipe is an API built on top of Python's Multiprocessing library. \n",
    "\n",
    "There is no limit to the number of processes you can run, however you are limited by the number of physical cores on your machine. For computation heavy pipelines bound to the CPU you may see performance degradation if the number of pipe segments exceed the number of physical cores. On the other hand, I/O processes such as loading, or computation that's bound to the GPU such as training, this should be less of an issue. "
   ]
  },
  {
   "cell_type": "markdown",
   "metadata": {},
   "source": [
    "## MiniPipe: Horizontal Scaling"
   ]
  },
  {
   "cell_type": "markdown",
   "metadata": {},
   "source": [
    "Since `Transform` takes twice as long as `Loader` and `Save` we can additionally speed things up by by increasing the number of Transform processes. Minipipe is designed for this type of horizontal parallelization as well."
   ]
  },
  {
   "cell_type": "code",
   "execution_count": 6,
   "metadata": {},
   "outputs": [],
   "source": [
    "# initialize pipeline\n",
    "pline = mp.PipeLine()\n",
    "\n",
    "# add pipe segments\n",
    "pline.add(mp.Source(loader, name='loader')) # loader is not initialized\n",
    "pline.add(mp.Transform(transform), n_processes=2) # ask for 2 processes\n",
    "pline.add(mp.Sink(save, name='save'))\n",
    "\n",
    "# build pipeline\n",
    "pline.build()"
   ]
  },
  {
   "cell_type": "markdown",
   "metadata": {},
   "source": [
    "We setup the pipeline exactly as before, except now when we add Transform to the pipeline we reserve two processes with the `n_processes` argument. \n",
    "\n",
    "Now lets look at the pipeline graph."
   ]
  },
  {
   "cell_type": "code",
   "execution_count": 7,
   "metadata": {},
   "outputs": [
    {
     "data": {
      "image/svg+xml": [
       "<?xml version=\"1.0\" encoding=\"UTF-8\" standalone=\"no\"?>\n",
       "<!DOCTYPE svg PUBLIC \"-//W3C//DTD SVG 1.1//EN\"\n",
       " \"http://www.w3.org/Graphics/SVG/1.1/DTD/svg11.dtd\">\n",
       "<!-- Generated by graphviz version 2.40.1 (20161225.0304)\n",
       " -->\n",
       "<!-- Title: %3 Pages: 1 -->\n",
       "<svg width=\"254pt\" height=\"188pt\"\n",
       " viewBox=\"0.00 0.00 254.39 188.00\" xmlns=\"http://www.w3.org/2000/svg\" xmlns:xlink=\"http://www.w3.org/1999/xlink\">\n",
       "<g id=\"graph0\" class=\"graph\" transform=\"scale(1 1) rotate(0) translate(4 184)\">\n",
       "<title>%3</title>\n",
       "<polygon fill=\"#ffffff\" stroke=\"transparent\" points=\"-4,4 -4,-184 250.3899,-184 250.3899,4 -4,4\"/>\n",
       "<!-- 140077076878616 -->\n",
       "<g id=\"node1\" class=\"node\">\n",
       "<title>140077076878616</title>\n",
       "<ellipse fill=\"none\" stroke=\"#000000\" cx=\"123.1949\" cy=\"-162\" rx=\"32.4942\" ry=\"18\"/>\n",
       "<text text-anchor=\"middle\" x=\"123.1949\" y=\"-158.3\" font-family=\"Times,serif\" font-size=\"14.00\" fill=\"#000000\">loader</text>\n",
       "</g>\n",
       "<!-- 140077076879848 -->\n",
       "<g id=\"node2\" class=\"node\">\n",
       "<title>140077076879848</title>\n",
       "<ellipse fill=\"none\" stroke=\"#000000\" cx=\"57.1949\" cy=\"-90\" rx=\"57.3905\" ry=\"18\"/>\n",
       "<text text-anchor=\"middle\" x=\"57.1949\" y=\"-86.3\" font-family=\"Times,serif\" font-size=\"14.00\" fill=\"#000000\">Transform_0</text>\n",
       "</g>\n",
       "<!-- 140077076878616&#45;&gt;140077076879848 -->\n",
       "<g id=\"edge1\" class=\"edge\">\n",
       "<title>140077076878616&#45;&gt;140077076879848</title>\n",
       "<path fill=\"none\" stroke=\"#000000\" d=\"M108.2185,-145.6621C99.9143,-136.6029 89.4135,-125.1476 80.0999,-114.9873\"/>\n",
       "<polygon fill=\"#000000\" stroke=\"#000000\" points=\"82.6025,-112.5377 73.2652,-107.5312 77.4424,-117.2678 82.6025,-112.5377\"/>\n",
       "</g>\n",
       "<!-- 140077076879904 -->\n",
       "<g id=\"node3\" class=\"node\">\n",
       "<title>140077076879904</title>\n",
       "<ellipse fill=\"none\" stroke=\"#000000\" cx=\"189.1949\" cy=\"-90\" rx=\"57.3905\" ry=\"18\"/>\n",
       "<text text-anchor=\"middle\" x=\"189.1949\" y=\"-86.3\" font-family=\"Times,serif\" font-size=\"14.00\" fill=\"#000000\">Transform_1</text>\n",
       "</g>\n",
       "<!-- 140077076878616&#45;&gt;140077076879904 -->\n",
       "<g id=\"edge2\" class=\"edge\">\n",
       "<title>140077076878616&#45;&gt;140077076879904</title>\n",
       "<path fill=\"none\" stroke=\"#000000\" d=\"M138.1713,-145.6621C146.4756,-136.6029 156.9763,-125.1476 166.2899,-114.9873\"/>\n",
       "<polygon fill=\"#000000\" stroke=\"#000000\" points=\"168.9475,-117.2678 173.1247,-107.5312 163.7874,-112.5377 168.9475,-117.2678\"/>\n",
       "</g>\n",
       "<!-- 140077076881248 -->\n",
       "<g id=\"node4\" class=\"node\">\n",
       "<title>140077076881248</title>\n",
       "<ellipse fill=\"none\" stroke=\"#000000\" cx=\"123.1949\" cy=\"-18\" rx=\"27\" ry=\"18\"/>\n",
       "<text text-anchor=\"middle\" x=\"123.1949\" y=\"-14.3\" font-family=\"Times,serif\" font-size=\"14.00\" fill=\"#000000\">save</text>\n",
       "</g>\n",
       "<!-- 140077076879848&#45;&gt;140077076881248 -->\n",
       "<g id=\"edge3\" class=\"edge\">\n",
       "<title>140077076879848&#45;&gt;140077076881248</title>\n",
       "<path fill=\"none\" stroke=\"#000000\" d=\"M73.1717,-72.5708C81.8055,-63.1521 92.5803,-51.3978 101.9164,-41.213\"/>\n",
       "<polygon fill=\"#000000\" stroke=\"#000000\" points=\"104.5388,-43.5318 108.716,-33.7951 99.3787,-38.8017 104.5388,-43.5318\"/>\n",
       "</g>\n",
       "<!-- 140077076879904&#45;&gt;140077076881248 -->\n",
       "<g id=\"edge4\" class=\"edge\">\n",
       "<title>140077076879904&#45;&gt;140077076881248</title>\n",
       "<path fill=\"none\" stroke=\"#000000\" d=\"M173.2182,-72.5708C164.5843,-63.1521 153.8096,-51.3978 144.4735,-41.213\"/>\n",
       "<polygon fill=\"#000000\" stroke=\"#000000\" points=\"147.0111,-38.8017 137.6738,-33.7951 141.851,-43.5318 147.0111,-38.8017\"/>\n",
       "</g>\n",
       "</g>\n",
       "</svg>\n"
      ],
      "text/plain": [
       "<graphviz.dot.Digraph at 0x7f663c66ab00>"
      ]
     },
     "execution_count": 7,
     "metadata": {},
     "output_type": "execute_result"
    }
   ],
   "source": [
    "pline.diagram()"
   ]
  },
  {
   "cell_type": "markdown",
   "metadata": {},
   "source": [
    "We see there are two separate Transform processes, but it's somewhat unclear what happens to the data after Source. To understand what's happening here we have to introduce the concept of a Stream.\n",
    "\n",
    "A Stream is a multiprocessing queue that holds the data while processes are busy. Each pipe segment is connected to a Stream. To see the Streams in the graph diagram along with the pipe segments you just need to set the `draw_streams` argument to true. "
   ]
  },
  {
   "cell_type": "code",
   "execution_count": 8,
   "metadata": {},
   "outputs": [
    {
     "data": {
      "image/svg+xml": [
       "<?xml version=\"1.0\" encoding=\"UTF-8\" standalone=\"no\"?>\n",
       "<!DOCTYPE svg PUBLIC \"-//W3C//DTD SVG 1.1//EN\"\n",
       " \"http://www.w3.org/Graphics/SVG/1.1/DTD/svg11.dtd\">\n",
       "<!-- Generated by graphviz version 2.40.1 (20161225.0304)\n",
       " -->\n",
       "<!-- Title: %3 Pages: 1 -->\n",
       "<svg width=\"254pt\" height=\"332pt\"\n",
       " viewBox=\"0.00 0.00 254.39 332.00\" xmlns=\"http://www.w3.org/2000/svg\" xmlns:xlink=\"http://www.w3.org/1999/xlink\">\n",
       "<g id=\"graph0\" class=\"graph\" transform=\"scale(1 1) rotate(0) translate(4 328)\">\n",
       "<title>%3</title>\n",
       "<polygon fill=\"#ffffff\" stroke=\"transparent\" points=\"-4,4 -4,-328 250.3899,-328 250.3899,4 -4,4\"/>\n",
       "<!-- 140077076878616 -->\n",
       "<g id=\"node1\" class=\"node\">\n",
       "<title>140077076878616</title>\n",
       "<ellipse fill=\"none\" stroke=\"#000000\" cx=\"123.1949\" cy=\"-306\" rx=\"32.4942\" ry=\"18\"/>\n",
       "<text text-anchor=\"middle\" x=\"123.1949\" y=\"-302.3\" font-family=\"Times,serif\" font-size=\"14.00\" fill=\"#000000\">loader</text>\n",
       "</g>\n",
       "<!-- 140077076879344 -->\n",
       "<g id=\"node2\" class=\"node\">\n",
       "<title>140077076879344</title>\n",
       "<polygon fill=\"none\" stroke=\"#000000\" points=\"156.6949,-252 89.6949,-252 89.6949,-216 156.6949,-216 156.6949,-252\"/>\n",
       "<text text-anchor=\"middle\" x=\"123.1949\" y=\"-230.3\" font-family=\"Times,serif\" font-size=\"14.00\" fill=\"#000000\">stream_0</text>\n",
       "</g>\n",
       "<!-- 140077076878616&#45;&gt;140077076879344 -->\n",
       "<g id=\"edge1\" class=\"edge\">\n",
       "<title>140077076878616&#45;&gt;140077076879344</title>\n",
       "<path fill=\"none\" stroke=\"#000000\" d=\"M123.1949,-287.8314C123.1949,-280.131 123.1949,-270.9743 123.1949,-262.4166\"/>\n",
       "<polygon fill=\"#000000\" stroke=\"#000000\" points=\"126.695,-262.4132 123.1949,-252.4133 119.695,-262.4133 126.695,-262.4132\"/>\n",
       "</g>\n",
       "<!-- 140077076879848 -->\n",
       "<g id=\"node3\" class=\"node\">\n",
       "<title>140077076879848</title>\n",
       "<ellipse fill=\"none\" stroke=\"#000000\" cx=\"57.1949\" cy=\"-162\" rx=\"57.3905\" ry=\"18\"/>\n",
       "<text text-anchor=\"middle\" x=\"57.1949\" y=\"-158.3\" font-family=\"Times,serif\" font-size=\"14.00\" fill=\"#000000\">Transform_0</text>\n",
       "</g>\n",
       "<!-- 140077076879344&#45;&gt;140077076879848 -->\n",
       "<g id=\"edge2\" class=\"edge\">\n",
       "<title>140077076879344&#45;&gt;140077076879848</title>\n",
       "<path fill=\"none\" stroke=\"#000000\" d=\"M106.5403,-215.8314C98.5448,-207.109 88.8367,-196.5183 80.1537,-187.0459\"/>\n",
       "<polygon fill=\"#000000\" stroke=\"#000000\" points=\"82.4985,-184.4242 73.1612,-179.4177 77.3384,-189.1543 82.4985,-184.4242\"/>\n",
       "</g>\n",
       "<!-- 140077076879904 -->\n",
       "<g id=\"node4\" class=\"node\">\n",
       "<title>140077076879904</title>\n",
       "<ellipse fill=\"none\" stroke=\"#000000\" cx=\"189.1949\" cy=\"-162\" rx=\"57.3905\" ry=\"18\"/>\n",
       "<text text-anchor=\"middle\" x=\"189.1949\" y=\"-158.3\" font-family=\"Times,serif\" font-size=\"14.00\" fill=\"#000000\">Transform_1</text>\n",
       "</g>\n",
       "<!-- 140077076879344&#45;&gt;140077076879904 -->\n",
       "<g id=\"edge3\" class=\"edge\">\n",
       "<title>140077076879344&#45;&gt;140077076879904</title>\n",
       "<path fill=\"none\" stroke=\"#000000\" d=\"M139.8495,-215.8314C147.845,-207.109 157.5532,-196.5183 166.2362,-187.0459\"/>\n",
       "<polygon fill=\"#000000\" stroke=\"#000000\" points=\"169.0515,-189.1543 173.2287,-179.4177 163.8914,-184.4242 169.0515,-189.1543\"/>\n",
       "</g>\n",
       "<!-- 140077076880632 -->\n",
       "<g id=\"node5\" class=\"node\">\n",
       "<title>140077076880632</title>\n",
       "<polygon fill=\"none\" stroke=\"#000000\" points=\"156.6949,-108 89.6949,-108 89.6949,-72 156.6949,-72 156.6949,-108\"/>\n",
       "<text text-anchor=\"middle\" x=\"123.1949\" y=\"-86.3\" font-family=\"Times,serif\" font-size=\"14.00\" fill=\"#000000\">stream_1</text>\n",
       "</g>\n",
       "<!-- 140077076879848&#45;&gt;140077076880632 -->\n",
       "<g id=\"edge4\" class=\"edge\">\n",
       "<title>140077076879848&#45;&gt;140077076880632</title>\n",
       "<path fill=\"none\" stroke=\"#000000\" d=\"M73.1717,-144.5708C81.179,-135.8355 91.0278,-125.0914 99.8627,-115.4534\"/>\n",
       "<polygon fill=\"#000000\" stroke=\"#000000\" points=\"102.4988,-117.7572 106.676,-108.0206 97.3387,-113.0271 102.4988,-117.7572\"/>\n",
       "</g>\n",
       "<!-- 140077076879904&#45;&gt;140077076880632 -->\n",
       "<g id=\"edge6\" class=\"edge\">\n",
       "<title>140077076879904&#45;&gt;140077076880632</title>\n",
       "<path fill=\"none\" stroke=\"#000000\" d=\"M173.2182,-144.5708C165.2108,-135.8355 155.362,-125.0914 146.5272,-115.4534\"/>\n",
       "<polygon fill=\"#000000\" stroke=\"#000000\" points=\"149.0511,-113.0271 139.7138,-108.0206 143.891,-117.7572 149.0511,-113.0271\"/>\n",
       "</g>\n",
       "<!-- 140077076881248 -->\n",
       "<g id=\"node6\" class=\"node\">\n",
       "<title>140077076881248</title>\n",
       "<ellipse fill=\"none\" stroke=\"#000000\" cx=\"123.1949\" cy=\"-18\" rx=\"27\" ry=\"18\"/>\n",
       "<text text-anchor=\"middle\" x=\"123.1949\" y=\"-14.3\" font-family=\"Times,serif\" font-size=\"14.00\" fill=\"#000000\">save</text>\n",
       "</g>\n",
       "<!-- 140077076880632&#45;&gt;140077076881248 -->\n",
       "<g id=\"edge5\" class=\"edge\">\n",
       "<title>140077076880632&#45;&gt;140077076881248</title>\n",
       "<path fill=\"none\" stroke=\"#000000\" d=\"M123.1949,-71.8314C123.1949,-64.131 123.1949,-54.9743 123.1949,-46.4166\"/>\n",
       "<polygon fill=\"#000000\" stroke=\"#000000\" points=\"126.695,-46.4132 123.1949,-36.4133 119.695,-46.4133 126.695,-46.4132\"/>\n",
       "</g>\n",
       "</g>\n",
       "</svg>\n"
      ],
      "text/plain": [
       "<graphviz.dot.Digraph at 0x7f663c66ad30>"
      ]
     },
     "execution_count": 8,
     "metadata": {},
     "output_type": "execute_result"
    }
   ],
   "source": [
    "pline.diagram(draw_streams=True)"
   ]
  },
  {
   "cell_type": "markdown",
   "metadata": {},
   "source": [
    "We see that `loader` puts data on its downstream queue `stream_0` while both `Transform_0` and `Transform_1` get data from that same queue. This allows the two Transform processes to executing asynchronously. The first available Transform process will take the data, so in this graph the order of data chunks in not necessarily preserved. \n",
    "\n",
    "Now lets see how long this pipeline takes."
   ]
  },
  {
   "cell_type": "code",
   "execution_count": 9,
   "metadata": {
    "scrolled": true
   },
   "outputs": [
    {
     "name": "stdout",
     "output_type": "stream",
     "text": [
      "x = 0\n",
      "x = 1\n",
      "x = 4\n",
      "x = 9\n",
      "x = 16\n",
      "x = 25\n"
     ]
    },
    {
     "name": "stderr",
     "output_type": "stream",
     "text": [
      "2019-12-13 18:45:54,224 - INFO - loader - End of stream\n"
     ]
    },
    {
     "name": "stdout",
     "output_type": "stream",
     "text": [
      "x = 36\n"
     ]
    },
    {
     "name": "stderr",
     "output_type": "stream",
     "text": [
      "2019-12-13 18:45:54,727 - INFO - loader - Local termination\n"
     ]
    },
    {
     "name": "stdout",
     "output_type": "stream",
     "text": [
      "x = 49\n"
     ]
    },
    {
     "name": "stderr",
     "output_type": "stream",
     "text": [
      "2019-12-13 18:45:54,758 - INFO - Transform_0 - Local termination\n"
     ]
    },
    {
     "name": "stdout",
     "output_type": "stream",
     "text": [
      "x = 64\n"
     ]
    },
    {
     "name": "stderr",
     "output_type": "stream",
     "text": [
      "2019-12-13 18:45:55,260 - INFO - save - Local termination\n"
     ]
    },
    {
     "name": "stdout",
     "output_type": "stream",
     "text": [
      "6.06 s ± 0 ns per loop (mean ± std. dev. of 1 run, 1 loop each)\n"
     ]
    }
   ],
   "source": [
    "%%timeit -n 1 -r 1\n",
    "\n",
    "pline.run()\n",
    "pline.close()"
   ]
  },
  {
   "cell_type": "markdown",
   "metadata": {},
   "source": [
    "We see it takes just over 6s as expected, about 1/3rd of the original execution time. \n",
    "\n",
    "At this point the only way to speed things up further is to introduce parallel load processes. This can be done by using two separate Sources each with their own generator function. However this cannot be done with the PipeLine API since it only allows for sequential pipelines. In the next section we'll introduce the PipeSystem API, which allows for general graph structures. "
   ]
  },
  {
   "cell_type": "code",
   "execution_count": null,
   "metadata": {},
   "outputs": [],
   "source": []
  }
 ],
 "metadata": {
  "kernelspec": {
   "display_name": "Python 3",
   "language": "python",
   "name": "python3"
  },
  "language_info": {
   "codemirror_mode": {
    "name": "ipython",
    "version": 3
   },
   "file_extension": ".py",
   "mimetype": "text/x-python",
   "name": "python",
   "nbconvert_exporter": "python",
   "pygments_lexer": "ipython3",
   "version": "3.6.9"
  }
 },
 "nbformat": 4,
 "nbformat_minor": 2
}
